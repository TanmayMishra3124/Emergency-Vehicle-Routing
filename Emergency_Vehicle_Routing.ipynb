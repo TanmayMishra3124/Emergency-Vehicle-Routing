{
  "nbformat": 4,
  "nbformat_minor": 0,
  "metadata": {
    "colab": {
      "provenance": []
    },
    "kernelspec": {
      "name": "python3",
      "display_name": "Python 3"
    },
    "language_info": {
      "name": "python"
    }
  },
  "cells": [
    {
      "cell_type": "code",
      "source": [
        "!apt-get install sumo sumo-tools sumo-doc\n",
        "!pip install traci numpy torch matplotlib pandas\n"
      ],
      "metadata": {
        "colab": {
          "base_uri": "https://localhost:8080/"
        },
        "collapsed": true,
        "id": "D9fYo2MUATuL",
        "outputId": "35e2c8e3-4d4d-4e6c-e46a-74b33f84498e"
      },
      "execution_count": null,
      "outputs": [
        {
          "output_type": "stream",
          "name": "stdout",
          "text": [
            "Reading package lists... Done\n",
            "Building dependency tree... Done\n",
            "Reading state information... Done\n",
            "The following additional packages will be installed:\n",
            "  binfmt-support fastjar fonts-roboto-unhinted jarwrapper javascript-common libcoin80c\n",
            "  libcollada-dom2.5-dp0 libfox-1.6-0 libgdal30 libglu1-mesa libjs-openlayers liblua5.2-0\n",
            "  libopenscenegraph161 libopenthreads21 libpoppler-glib8 libproj22 proj-bin\n",
            "Suggested packages:\n",
            "  apache2 | lighttpd | httpd libopenal0a libsimage-dev libbullet2\n",
            "The following NEW packages will be installed:\n",
            "  binfmt-support fastjar fonts-roboto-unhinted jarwrapper javascript-common libcoin80c\n",
            "  libcollada-dom2.5-dp0 libfox-1.6-0 libgdal30 libglu1-mesa libjs-openlayers liblua5.2-0\n",
            "  libopenscenegraph161 libopenthreads21 libpoppler-glib8 libproj22 proj-bin sumo sumo-doc\n",
            "  sumo-tools\n",
            "0 upgraded, 20 newly installed, 0 to remove and 30 not upgraded.\n",
            "Need to get 52.8 MB of archives.\n",
            "After this operation, 270 MB of additional disk space will be used.\n",
            "Get:1 http://archive.ubuntu.com/ubuntu jammy/main amd64 binfmt-support amd64 2.2.1-2 [55.8 kB]\n",
            "Get:2 http://archive.ubuntu.com/ubuntu jammy/universe amd64 fonts-roboto-unhinted all 2:0~20170802-3 [2,376 kB]\n",
            "Get:3 https://ppa.launchpadcontent.net/ubuntugis/ppa/ubuntu jammy/main amd64 libgdal30 amd64 3.4.3+dfsg-1~jammy0 [7,953 kB]\n",
            "Get:4 http://archive.ubuntu.com/ubuntu jammy/universe amd64 fastjar amd64 2:0.98-7 [67.1 kB]\n",
            "Get:5 http://archive.ubuntu.com/ubuntu jammy/universe amd64 jarwrapper all 0.78 [10.8 kB]\n",
            "Get:6 http://archive.ubuntu.com/ubuntu jammy/main amd64 javascript-common all 11+nmu1 [5,936 B]\n",
            "Get:7 http://archive.ubuntu.com/ubuntu jammy/universe amd64 libcoin80c amd64 4.0.0+ds-2 [2,425 kB]\n",
            "Get:8 http://archive.ubuntu.com/ubuntu jammy/universe amd64 libcollada-dom2.5-dp0 amd64 2.5.0+ds1-3 [1,126 kB]\n",
            "Get:9 http://archive.ubuntu.com/ubuntu jammy/main amd64 libglu1-mesa amd64 9.0.2-1 [145 kB]\n",
            "Get:10 http://archive.ubuntu.com/ubuntu jammy/universe amd64 libfox-1.6-0 amd64 1.6.57-1build1 [890 kB]\n",
            "Get:11 http://archive.ubuntu.com/ubuntu jammy/universe amd64 libproj22 amd64 8.2.1-1 [1,257 kB]\n",
            "Get:12 http://archive.ubuntu.com/ubuntu jammy/universe amd64 liblua5.2-0 amd64 5.2.4-2 [125 kB]\n",
            "Ign:13 http://archive.ubuntu.com/ubuntu jammy-updates/main amd64 libpoppler-glib8 amd64 22.02.0-2ubuntu0.6\n",
            "Get:14 http://archive.ubuntu.com/ubuntu jammy/universe amd64 sumo amd64 1.12.0+dfsg1-1 [19.0 MB]\n",
            "Err:13 http://security.ubuntu.com/ubuntu jammy-updates/main amd64 libpoppler-glib8 amd64 22.02.0-2ubuntu0.6\n",
            "  404  Not Found [IP: 185.125.190.81 80]\n",
            "Get:15 http://archive.ubuntu.com/ubuntu jammy/universe amd64 sumo-doc all 1.12.0+dfsg1-1 [2,637 kB]\n",
            "Get:16 http://archive.ubuntu.com/ubuntu jammy/universe amd64 libjs-openlayers all 2.13.1+ds2-8 [709 kB]\n",
            "Get:17 http://archive.ubuntu.com/ubuntu jammy/universe amd64 sumo-tools all 1.12.0+dfsg1-1 [7,395 kB]\n",
            "Get:18 https://ppa.launchpadcontent.net/ubuntugis/ppa/ubuntu jammy/main amd64 libopenthreads21 amd64 3.6.5+dfsg1-7build4 [32.3 kB]\n",
            "Get:19 https://ppa.launchpadcontent.net/ubuntugis/ppa/ubuntu jammy/main amd64 libopenscenegraph161 amd64 3.6.5+dfsg1-7build4 [6,260 kB]\n",
            "Get:20 https://ppa.launchpadcontent.net/ubuntugis/ppa/ubuntu jammy/main amd64 proj-bin amd64 9.1.1-1~jammy0 [197 kB]\n",
            "Fetched 52.7 MB in 28s (1,912 kB/s)\n",
            "E: Failed to fetch http://security.ubuntu.com/ubuntu/pool/main/p/poppler/libpoppler-glib8_22.02.0-2ubuntu0.6_amd64.deb  404  Not Found [IP: 185.125.190.81 80]\n",
            "E: Unable to fetch some archives, maybe run apt-get update or try with --fix-missing?\n",
            "Collecting traci\n",
            "  Using cached traci-1.22.0-py3-none-any.whl.metadata (3.3 kB)\n",
            "Requirement already satisfied: numpy in /usr/local/lib/python3.11/dist-packages (2.0.2)\n",
            "Requirement already satisfied: torch in /usr/local/lib/python3.11/dist-packages (2.6.0+cu124)\n",
            "Requirement already satisfied: matplotlib in /usr/local/lib/python3.11/dist-packages (3.10.0)\n",
            "Requirement already satisfied: pandas in /usr/local/lib/python3.11/dist-packages (2.2.2)\n",
            "Collecting sumolib>=1.22.0 (from traci)\n",
            "  Using cached sumolib-1.22.0-py3-none-any.whl.metadata (2.7 kB)\n",
            "Requirement already satisfied: filelock in /usr/local/lib/python3.11/dist-packages (from torch) (3.18.0)\n",
            "Requirement already satisfied: typing-extensions>=4.10.0 in /usr/local/lib/python3.11/dist-packages (from torch) (4.13.1)\n",
            "Requirement already satisfied: networkx in /usr/local/lib/python3.11/dist-packages (from torch) (3.4.2)\n",
            "Requirement already satisfied: jinja2 in /usr/local/lib/python3.11/dist-packages (from torch) (3.1.6)\n",
            "Requirement already satisfied: fsspec in /usr/local/lib/python3.11/dist-packages (from torch) (2025.3.2)\n",
            "Collecting nvidia-cuda-nvrtc-cu12==12.4.127 (from torch)\n",
            "  Using cached nvidia_cuda_nvrtc_cu12-12.4.127-py3-none-manylinux2014_x86_64.whl.metadata (1.5 kB)\n",
            "Collecting nvidia-cuda-runtime-cu12==12.4.127 (from torch)\n",
            "  Using cached nvidia_cuda_runtime_cu12-12.4.127-py3-none-manylinux2014_x86_64.whl.metadata (1.5 kB)\n",
            "Collecting nvidia-cuda-cupti-cu12==12.4.127 (from torch)\n",
            "  Using cached nvidia_cuda_cupti_cu12-12.4.127-py3-none-manylinux2014_x86_64.whl.metadata (1.6 kB)\n",
            "Collecting nvidia-cudnn-cu12==9.1.0.70 (from torch)\n",
            "  Using cached nvidia_cudnn_cu12-9.1.0.70-py3-none-manylinux2014_x86_64.whl.metadata (1.6 kB)\n",
            "Collecting nvidia-cublas-cu12==12.4.5.8 (from torch)\n",
            "  Using cached nvidia_cublas_cu12-12.4.5.8-py3-none-manylinux2014_x86_64.whl.metadata (1.5 kB)\n",
            "Collecting nvidia-cufft-cu12==11.2.1.3 (from torch)\n",
            "  Using cached nvidia_cufft_cu12-11.2.1.3-py3-none-manylinux2014_x86_64.whl.metadata (1.5 kB)\n",
            "Collecting nvidia-curand-cu12==10.3.5.147 (from torch)\n",
            "  Using cached nvidia_curand_cu12-10.3.5.147-py3-none-manylinux2014_x86_64.whl.metadata (1.5 kB)\n",
            "Collecting nvidia-cusolver-cu12==11.6.1.9 (from torch)\n",
            "  Using cached nvidia_cusolver_cu12-11.6.1.9-py3-none-manylinux2014_x86_64.whl.metadata (1.6 kB)\n",
            "Collecting nvidia-cusparse-cu12==12.3.1.170 (from torch)\n",
            "  Using cached nvidia_cusparse_cu12-12.3.1.170-py3-none-manylinux2014_x86_64.whl.metadata (1.6 kB)\n",
            "Requirement already satisfied: nvidia-cusparselt-cu12==0.6.2 in /usr/local/lib/python3.11/dist-packages (from torch) (0.6.2)\n",
            "Requirement already satisfied: nvidia-nccl-cu12==2.21.5 in /usr/local/lib/python3.11/dist-packages (from torch) (2.21.5)\n",
            "Requirement already satisfied: nvidia-nvtx-cu12==12.4.127 in /usr/local/lib/python3.11/dist-packages (from torch) (12.4.127)\n",
            "Collecting nvidia-nvjitlink-cu12==12.4.127 (from torch)\n",
            "  Downloading nvidia_nvjitlink_cu12-12.4.127-py3-none-manylinux2014_x86_64.whl.metadata (1.5 kB)\n",
            "Requirement already satisfied: triton==3.2.0 in /usr/local/lib/python3.11/dist-packages (from torch) (3.2.0)\n",
            "Requirement already satisfied: sympy==1.13.1 in /usr/local/lib/python3.11/dist-packages (from torch) (1.13.1)\n",
            "Requirement already satisfied: mpmath<1.4,>=1.1.0 in /usr/local/lib/python3.11/dist-packages (from sympy==1.13.1->torch) (1.3.0)\n",
            "Requirement already satisfied: contourpy>=1.0.1 in /usr/local/lib/python3.11/dist-packages (from matplotlib) (1.3.1)\n",
            "Requirement already satisfied: cycler>=0.10 in /usr/local/lib/python3.11/dist-packages (from matplotlib) (0.12.1)\n",
            "Requirement already satisfied: fonttools>=4.22.0 in /usr/local/lib/python3.11/dist-packages (from matplotlib) (4.57.0)\n",
            "Requirement already satisfied: kiwisolver>=1.3.1 in /usr/local/lib/python3.11/dist-packages (from matplotlib) (1.4.8)\n",
            "Requirement already satisfied: packaging>=20.0 in /usr/local/lib/python3.11/dist-packages (from matplotlib) (24.2)\n",
            "Requirement already satisfied: pillow>=8 in /usr/local/lib/python3.11/dist-packages (from matplotlib) (11.1.0)\n",
            "Requirement already satisfied: pyparsing>=2.3.1 in /usr/local/lib/python3.11/dist-packages (from matplotlib) (3.2.3)\n",
            "Requirement already satisfied: python-dateutil>=2.7 in /usr/local/lib/python3.11/dist-packages (from matplotlib) (2.8.2)\n",
            "Requirement already satisfied: pytz>=2020.1 in /usr/local/lib/python3.11/dist-packages (from pandas) (2025.2)\n",
            "Requirement already satisfied: tzdata>=2022.7 in /usr/local/lib/python3.11/dist-packages (from pandas) (2025.2)\n",
            "Requirement already satisfied: six>=1.5 in /usr/local/lib/python3.11/dist-packages (from python-dateutil>=2.7->matplotlib) (1.17.0)\n",
            "Requirement already satisfied: MarkupSafe>=2.0 in /usr/local/lib/python3.11/dist-packages (from jinja2->torch) (3.0.2)\n",
            "Downloading traci-1.22.0-py3-none-any.whl (126 kB)\n",
            "\u001b[2K   \u001b[90m━━━━━━━━━━━━━━━━━━━━━━━━━━━━━━━━━━━━━━━━\u001b[0m \u001b[32m126.4/126.4 kB\u001b[0m \u001b[31m2.9 MB/s\u001b[0m eta \u001b[36m0:00:00\u001b[0m\n",
            "\u001b[?25hDownloading nvidia_cublas_cu12-12.4.5.8-py3-none-manylinux2014_x86_64.whl (363.4 MB)\n",
            "\u001b[2K   \u001b[90m━━━━━━━━━━━━━━━━━━━━━━━━━━━━━━━━━━━━━━━━\u001b[0m \u001b[32m363.4/363.4 MB\u001b[0m \u001b[31m1.4 MB/s\u001b[0m eta \u001b[36m0:00:00\u001b[0m\n",
            "\u001b[?25hDownloading nvidia_cuda_cupti_cu12-12.4.127-py3-none-manylinux2014_x86_64.whl (13.8 MB)\n",
            "\u001b[2K   \u001b[90m━━━━━━━━━━━━━━━━━━━━━━━━━━━━━━━━━━━━━━━━\u001b[0m \u001b[32m13.8/13.8 MB\u001b[0m \u001b[31m62.6 MB/s\u001b[0m eta \u001b[36m0:00:00\u001b[0m\n",
            "\u001b[?25hDownloading nvidia_cuda_nvrtc_cu12-12.4.127-py3-none-manylinux2014_x86_64.whl (24.6 MB)\n",
            "\u001b[2K   \u001b[90m━━━━━━━━━━━━━━━━━━━━━━━━━━━━━━━━━━━━━━━━\u001b[0m \u001b[32m24.6/24.6 MB\u001b[0m \u001b[31m51.3 MB/s\u001b[0m eta \u001b[36m0:00:00\u001b[0m\n",
            "\u001b[?25hDownloading nvidia_cuda_runtime_cu12-12.4.127-py3-none-manylinux2014_x86_64.whl (883 kB)\n",
            "\u001b[2K   \u001b[90m━━━━━━━━━━━━━━━━━━━━━━━━━━━━━━━━━━━━━━━━\u001b[0m \u001b[32m883.7/883.7 kB\u001b[0m \u001b[31m36.4 MB/s\u001b[0m eta \u001b[36m0:00:00\u001b[0m\n",
            "\u001b[?25hDownloading nvidia_cudnn_cu12-9.1.0.70-py3-none-manylinux2014_x86_64.whl (664.8 MB)\n",
            "\u001b[2K   \u001b[90m━━━━━━━━━━━━━━━━━━━━━━━━━━━━━━━━━━━━━━━━\u001b[0m \u001b[32m664.8/664.8 MB\u001b[0m \u001b[31m804.3 kB/s\u001b[0m eta \u001b[36m0:00:00\u001b[0m\n",
            "\u001b[?25hDownloading nvidia_cufft_cu12-11.2.1.3-py3-none-manylinux2014_x86_64.whl (211.5 MB)\n",
            "\u001b[2K   \u001b[90m━━━━━━━━━━━━━━━━━━━━━━━━━━━━━━━━━━━━━━━━\u001b[0m \u001b[32m211.5/211.5 MB\u001b[0m \u001b[31m5.0 MB/s\u001b[0m eta \u001b[36m0:00:00\u001b[0m\n",
            "\u001b[?25hDownloading nvidia_curand_cu12-10.3.5.147-py3-none-manylinux2014_x86_64.whl (56.3 MB)\n",
            "\u001b[2K   \u001b[90m━━━━━━━━━━━━━━━━━━━━━━━━━━━━━━━━━━━━━━━━\u001b[0m \u001b[32m56.3/56.3 MB\u001b[0m \u001b[31m11.1 MB/s\u001b[0m eta \u001b[36m0:00:00\u001b[0m\n",
            "\u001b[?25hDownloading nvidia_cusolver_cu12-11.6.1.9-py3-none-manylinux2014_x86_64.whl (127.9 MB)\n",
            "\u001b[2K   \u001b[90m━━━━━━━━━━━━━━━━━━━━━━━━━━━━━━━━━━━━━━━━\u001b[0m \u001b[32m127.9/127.9 MB\u001b[0m \u001b[31m7.1 MB/s\u001b[0m eta \u001b[36m0:00:00\u001b[0m\n",
            "\u001b[?25hDownloading nvidia_cusparse_cu12-12.3.1.170-py3-none-manylinux2014_x86_64.whl (207.5 MB)\n",
            "\u001b[2K   \u001b[90m━━━━━━━━━━━━━━━━━━━━━━━━━━━━━━━━━━━━━━━━\u001b[0m \u001b[32m207.5/207.5 MB\u001b[0m \u001b[31m4.9 MB/s\u001b[0m eta \u001b[36m0:00:00\u001b[0m\n",
            "\u001b[?25hDownloading nvidia_nvjitlink_cu12-12.4.127-py3-none-manylinux2014_x86_64.whl (21.1 MB)\n",
            "\u001b[2K   \u001b[90m━━━━━━━━━━━━━━━━━━━━━━━━━━━━━━━━━━━━━━━━\u001b[0m \u001b[32m21.1/21.1 MB\u001b[0m \u001b[31m50.4 MB/s\u001b[0m eta \u001b[36m0:00:00\u001b[0m\n",
            "\u001b[?25hDownloading sumolib-1.22.0-py3-none-any.whl (150 kB)\n",
            "\u001b[2K   \u001b[90m━━━━━━━━━━━━━━━━━━━━━━━━━━━━━━━━━━━━━━━━\u001b[0m \u001b[32m150.9/150.9 kB\u001b[0m \u001b[31m10.3 MB/s\u001b[0m eta \u001b[36m0:00:00\u001b[0m\n",
            "\u001b[?25hInstalling collected packages: sumolib, traci, nvidia-nvjitlink-cu12, nvidia-curand-cu12, nvidia-cufft-cu12, nvidia-cuda-runtime-cu12, nvidia-cuda-nvrtc-cu12, nvidia-cuda-cupti-cu12, nvidia-cublas-cu12, nvidia-cusparse-cu12, nvidia-cudnn-cu12, nvidia-cusolver-cu12\n",
            "  Attempting uninstall: nvidia-nvjitlink-cu12\n",
            "    Found existing installation: nvidia-nvjitlink-cu12 12.5.82\n",
            "    Uninstalling nvidia-nvjitlink-cu12-12.5.82:\n",
            "      Successfully uninstalled nvidia-nvjitlink-cu12-12.5.82\n",
            "  Attempting uninstall: nvidia-curand-cu12\n",
            "    Found existing installation: nvidia-curand-cu12 10.3.6.82\n",
            "    Uninstalling nvidia-curand-cu12-10.3.6.82:\n",
            "      Successfully uninstalled nvidia-curand-cu12-10.3.6.82\n",
            "  Attempting uninstall: nvidia-cufft-cu12\n",
            "    Found existing installation: nvidia-cufft-cu12 11.2.3.61\n",
            "    Uninstalling nvidia-cufft-cu12-11.2.3.61:\n",
            "      Successfully uninstalled nvidia-cufft-cu12-11.2.3.61\n",
            "  Attempting uninstall: nvidia-cuda-runtime-cu12\n",
            "    Found existing installation: nvidia-cuda-runtime-cu12 12.5.82\n",
            "    Uninstalling nvidia-cuda-runtime-cu12-12.5.82:\n",
            "      Successfully uninstalled nvidia-cuda-runtime-cu12-12.5.82\n",
            "  Attempting uninstall: nvidia-cuda-nvrtc-cu12\n",
            "    Found existing installation: nvidia-cuda-nvrtc-cu12 12.5.82\n",
            "    Uninstalling nvidia-cuda-nvrtc-cu12-12.5.82:\n",
            "      Successfully uninstalled nvidia-cuda-nvrtc-cu12-12.5.82\n",
            "  Attempting uninstall: nvidia-cuda-cupti-cu12\n",
            "    Found existing installation: nvidia-cuda-cupti-cu12 12.5.82\n",
            "    Uninstalling nvidia-cuda-cupti-cu12-12.5.82:\n",
            "      Successfully uninstalled nvidia-cuda-cupti-cu12-12.5.82\n",
            "  Attempting uninstall: nvidia-cublas-cu12\n",
            "    Found existing installation: nvidia-cublas-cu12 12.5.3.2\n",
            "    Uninstalling nvidia-cublas-cu12-12.5.3.2:\n",
            "      Successfully uninstalled nvidia-cublas-cu12-12.5.3.2\n",
            "  Attempting uninstall: nvidia-cusparse-cu12\n",
            "    Found existing installation: nvidia-cusparse-cu12 12.5.1.3\n",
            "    Uninstalling nvidia-cusparse-cu12-12.5.1.3:\n",
            "      Successfully uninstalled nvidia-cusparse-cu12-12.5.1.3\n",
            "  Attempting uninstall: nvidia-cudnn-cu12\n",
            "    Found existing installation: nvidia-cudnn-cu12 9.3.0.75\n",
            "    Uninstalling nvidia-cudnn-cu12-9.3.0.75:\n",
            "      Successfully uninstalled nvidia-cudnn-cu12-9.3.0.75\n",
            "  Attempting uninstall: nvidia-cusolver-cu12\n",
            "    Found existing installation: nvidia-cusolver-cu12 11.6.3.83\n",
            "    Uninstalling nvidia-cusolver-cu12-11.6.3.83:\n",
            "      Successfully uninstalled nvidia-cusolver-cu12-11.6.3.83\n",
            "Successfully installed nvidia-cublas-cu12-12.4.5.8 nvidia-cuda-cupti-cu12-12.4.127 nvidia-cuda-nvrtc-cu12-12.4.127 nvidia-cuda-runtime-cu12-12.4.127 nvidia-cudnn-cu12-9.1.0.70 nvidia-cufft-cu12-11.2.1.3 nvidia-curand-cu12-10.3.5.147 nvidia-cusolver-cu12-11.6.1.9 nvidia-cusparse-cu12-12.3.1.170 nvidia-nvjitlink-cu12-12.4.127 sumolib-1.22.0 traci-1.22.0\n"
          ]
        }
      ]
    },
    {
      "cell_type": "code",
      "source": [
        "import csv\n",
        "import sumolib\n",
        "\n",
        "def extract_and_save_network_data(network_file, output_file=\"network_data.csv\"):\n",
        "    # Load the network using sumolib\n",
        "    net = sumolib.net.readNet(network_file)\n",
        "\n",
        "    # Extract and save edge information\n",
        "    with open(output_file, mode='w', newline='') as file:\n",
        "        writer = csv.writer(file)\n",
        "        writer.writerow([\"Edge ID\", \"From Node\", \"To Node\", \"Length (m)\", \"Speed Limit (m/s)\", \"Number of Lanes\"])\n",
        "\n",
        "        for edge in net.getEdges():\n",
        "            # Fix for Excel issue by adding a single quote to Edge IDs\n",
        "            edge_id = f\"'{edge.getID()}\"\n",
        "\n",
        "            writer.writerow([\n",
        "                edge_id,\n",
        "                edge.getFromNode().getID(),\n",
        "                edge.getToNode().getID(),\n",
        "                edge.getLength(),\n",
        "                edge.getSpeed(),\n",
        "                len(edge.getLanes())\n",
        "            ])\n",
        "\n",
        "    print(f\"Data successfully saved to {output_file}\")\n",
        "\n",
        "# Provide your network file (.net.xml)\n",
        "network_file = \"/content/updated.net.xml\"\n",
        "extract_and_save_network_data(network_file)\n"
      ],
      "metadata": {
        "colab": {
          "base_uri": "https://localhost:8080/"
        },
        "id": "T87pU7uR3EKQ",
        "outputId": "d524b257-a748-4a58-cc10-93e8ec89f56b"
      },
      "execution_count": null,
      "outputs": [
        {
          "output_type": "stream",
          "name": "stdout",
          "text": [
            "Data successfully saved to network_data.csv\n"
          ]
        }
      ]
    },
    {
      "cell_type": "code",
      "execution_count": null,
      "metadata": {
        "colab": {
          "base_uri": "https://localhost:8080/"
        },
        "id": "UqdLeBxW_F4i",
        "outputId": "ca67f980-c0c8-487c-83de-f7cbc8df3d5c"
      },
      "outputs": [
        {
          "output_type": "stream",
          "name": "stdout",
          "text": [
            "🚦 Traffic Data Sample:\n",
            "   step   edge_id  avg_speed  vehicle_count  occupancy  traffic_flow\n",
            "0   100      '-E0   0.000000              0   0.000000      0.000000\n",
            "1   100      '-E1   0.000000              0   0.000000      0.000000\n",
            "2   100  '-E1.703   0.000000              0   0.000000      0.000000\n",
            "3   100     '-E10  20.978846              1   0.467942     20.978846\n",
            "4   100     '-E11   0.000000              0   0.000000      0.000000\n",
            "\n",
            "🛣️ Network Data Sample:\n",
            "    Edge ID From Node To Node  Length (m)  Speed Limit (m/s)  Number of Lanes\n",
            "0      '-E0        J2      J1      988.39               19.0                3\n",
            "1      '-E1        J3     J18      708.14               19.0                3\n",
            "2  '-E1.703       J18      J2      581.44               19.0                3\n",
            "3     '-E10       J13     J12      558.83               19.0                2\n",
            "4     '-E11       J14     J13      704.63               19.0                3\n"
          ]
        }
      ],
      "source": [
        "import pandas as pd\n",
        "import networkx as nx\n",
        "import numpy as np\n",
        "import random\n",
        "\n",
        "# Load CSV files\n",
        "data_path = \"/content/all_edge_data.csv\"\n",
        "network_path = \"/content/network_data.csv\"\n",
        "\n",
        "data = pd.read_csv(data_path)  # Real-time traffic data\n",
        "network_data = pd.read_csv(network_path)  # Road network data\n",
        "\n",
        "# Inspect data\n",
        "print(\"🚦 Traffic Data Sample:\")\n",
        "print(data.head())\n",
        "\n",
        "print(\"\\n🛣️ Network Data Sample:\")\n",
        "print(network_data.head())\n"
      ]
    },
    {
      "cell_type": "code",
      "source": [
        "import pandas as pd\n",
        "import networkx as nx\n",
        "\n",
        "def create_directed_graph(network_file):\n",
        "    df = pd.read_csv(network_file)\n",
        "\n",
        "    # Calculate travel time\n",
        "    df[\"time\"] = df[\"Length (m)\"] / df[\"Speed Limit (m/s)\"]\n",
        "    df[\"distance\"] = df[\"Length (m)\"]  # For consistency\n",
        "\n",
        "    # Create directed graph\n",
        "    G = nx.DiGraph()\n",
        "\n",
        "    # Add edges with weights and edge ID\n",
        "    for _, row in df.iterrows():\n",
        "        G.add_edge(\n",
        "            row[\"From Node\"],\n",
        "            row[\"To Node\"],\n",
        "            edge_id=row[\"Edge ID\"],         # ✅ Add edge ID\n",
        "            distance=row[\"distance\"],\n",
        "            time=row[\"time\"]\n",
        "        )\n",
        "\n",
        "    return G\n",
        "\n",
        "# Path to your network CSV\n",
        "network_file_path = '/content/network_data.csv'\n",
        "graph = create_directed_graph(network_file_path)\n",
        "\n",
        "print(\"✅ Graph created with:\")\n",
        "print(f\"Nodes: {graph.number_of_nodes()}, Edges: {graph.number_of_edges()}\")\n"
      ],
      "metadata": {
        "colab": {
          "base_uri": "https://localhost:8080/"
        },
        "id": "RufAD8FNzJJU",
        "outputId": "faa9b859-9298-460d-a7bf-5ecb454153cb"
      },
      "execution_count": null,
      "outputs": [
        {
          "output_type": "stream",
          "name": "stdout",
          "text": [
            "✅ Graph created with:\n",
            "Nodes: 34, Edges: 84\n"
          ]
        }
      ]
    },
    {
      "cell_type": "code",
      "source": [
        "# Convert graph to adjacency matrix\n",
        "adj_matrix = nx.adjacency_matrix(graph)\n",
        "\n",
        "# Convert to DataFrame for readability\n",
        "adj_df = pd.DataFrame(adj_matrix.todense(), index=graph.nodes(), columns=graph.nodes())\n",
        "\n",
        "# Display the adjacency matrix\n",
        "adj_df.head()\n"
      ],
      "metadata": {
        "colab": {
          "base_uri": "https://localhost:8080/",
          "height": 236
        },
        "collapsed": true,
        "id": "XHHN0bL-ztJC",
        "outputId": "adbe0d63-ffcd-49bf-f5db-b0be5c216583"
      },
      "execution_count": null,
      "outputs": [
        {
          "output_type": "execute_result",
          "data": {
            "text/plain": [
              "     J2  J1  J3  J18  J13  J12  J14  J4  J16  J19  ...  J34  J5  J11  J40  \\\n",
              "J2    0   1   0    1    0    0    0   0    1    0  ...    0   0    0    0   \n",
              "J1    1   0   0    0    0    0    0   0    0    0  ...    0   0    0    0   \n",
              "J3    0   0   0    1    0    0    0   0    0    0  ...    0   0    0    0   \n",
              "J18   1   0   1    0    0    0    0   0    0    0  ...    0   0    0    0   \n",
              "J13   0   0   0    0    0    1    1   0    0    0  ...    0   0    0    0   \n",
              "\n",
              "     J45  J42  J43  J7  J44  J8  \n",
              "J2     0    0    0   0    0   0  \n",
              "J1     0    0    0   1    0   0  \n",
              "J3     0    0    0   0    0   0  \n",
              "J18    0    0    0   0    0   0  \n",
              "J13    0    1    1   0    0   0  \n",
              "\n",
              "[5 rows x 34 columns]"
            ],
            "text/html": [
              "\n",
              "  <div id=\"df-f3823f56-b499-4a9a-b4f9-bac5b6a96dd1\" class=\"colab-df-container\">\n",
              "    <div>\n",
              "<style scoped>\n",
              "    .dataframe tbody tr th:only-of-type {\n",
              "        vertical-align: middle;\n",
              "    }\n",
              "\n",
              "    .dataframe tbody tr th {\n",
              "        vertical-align: top;\n",
              "    }\n",
              "\n",
              "    .dataframe thead th {\n",
              "        text-align: right;\n",
              "    }\n",
              "</style>\n",
              "<table border=\"1\" class=\"dataframe\">\n",
              "  <thead>\n",
              "    <tr style=\"text-align: right;\">\n",
              "      <th></th>\n",
              "      <th>J2</th>\n",
              "      <th>J1</th>\n",
              "      <th>J3</th>\n",
              "      <th>J18</th>\n",
              "      <th>J13</th>\n",
              "      <th>J12</th>\n",
              "      <th>J14</th>\n",
              "      <th>J4</th>\n",
              "      <th>J16</th>\n",
              "      <th>J19</th>\n",
              "      <th>...</th>\n",
              "      <th>J34</th>\n",
              "      <th>J5</th>\n",
              "      <th>J11</th>\n",
              "      <th>J40</th>\n",
              "      <th>J45</th>\n",
              "      <th>J42</th>\n",
              "      <th>J43</th>\n",
              "      <th>J7</th>\n",
              "      <th>J44</th>\n",
              "      <th>J8</th>\n",
              "    </tr>\n",
              "  </thead>\n",
              "  <tbody>\n",
              "    <tr>\n",
              "      <th>J2</th>\n",
              "      <td>0</td>\n",
              "      <td>1</td>\n",
              "      <td>0</td>\n",
              "      <td>1</td>\n",
              "      <td>0</td>\n",
              "      <td>0</td>\n",
              "      <td>0</td>\n",
              "      <td>0</td>\n",
              "      <td>1</td>\n",
              "      <td>0</td>\n",
              "      <td>...</td>\n",
              "      <td>0</td>\n",
              "      <td>0</td>\n",
              "      <td>0</td>\n",
              "      <td>0</td>\n",
              "      <td>0</td>\n",
              "      <td>0</td>\n",
              "      <td>0</td>\n",
              "      <td>0</td>\n",
              "      <td>0</td>\n",
              "      <td>0</td>\n",
              "    </tr>\n",
              "    <tr>\n",
              "      <th>J1</th>\n",
              "      <td>1</td>\n",
              "      <td>0</td>\n",
              "      <td>0</td>\n",
              "      <td>0</td>\n",
              "      <td>0</td>\n",
              "      <td>0</td>\n",
              "      <td>0</td>\n",
              "      <td>0</td>\n",
              "      <td>0</td>\n",
              "      <td>0</td>\n",
              "      <td>...</td>\n",
              "      <td>0</td>\n",
              "      <td>0</td>\n",
              "      <td>0</td>\n",
              "      <td>0</td>\n",
              "      <td>0</td>\n",
              "      <td>0</td>\n",
              "      <td>0</td>\n",
              "      <td>1</td>\n",
              "      <td>0</td>\n",
              "      <td>0</td>\n",
              "    </tr>\n",
              "    <tr>\n",
              "      <th>J3</th>\n",
              "      <td>0</td>\n",
              "      <td>0</td>\n",
              "      <td>0</td>\n",
              "      <td>1</td>\n",
              "      <td>0</td>\n",
              "      <td>0</td>\n",
              "      <td>0</td>\n",
              "      <td>0</td>\n",
              "      <td>0</td>\n",
              "      <td>0</td>\n",
              "      <td>...</td>\n",
              "      <td>0</td>\n",
              "      <td>0</td>\n",
              "      <td>0</td>\n",
              "      <td>0</td>\n",
              "      <td>0</td>\n",
              "      <td>0</td>\n",
              "      <td>0</td>\n",
              "      <td>0</td>\n",
              "      <td>0</td>\n",
              "      <td>0</td>\n",
              "    </tr>\n",
              "    <tr>\n",
              "      <th>J18</th>\n",
              "      <td>1</td>\n",
              "      <td>0</td>\n",
              "      <td>1</td>\n",
              "      <td>0</td>\n",
              "      <td>0</td>\n",
              "      <td>0</td>\n",
              "      <td>0</td>\n",
              "      <td>0</td>\n",
              "      <td>0</td>\n",
              "      <td>0</td>\n",
              "      <td>...</td>\n",
              "      <td>0</td>\n",
              "      <td>0</td>\n",
              "      <td>0</td>\n",
              "      <td>0</td>\n",
              "      <td>0</td>\n",
              "      <td>0</td>\n",
              "      <td>0</td>\n",
              "      <td>0</td>\n",
              "      <td>0</td>\n",
              "      <td>0</td>\n",
              "    </tr>\n",
              "    <tr>\n",
              "      <th>J13</th>\n",
              "      <td>0</td>\n",
              "      <td>0</td>\n",
              "      <td>0</td>\n",
              "      <td>0</td>\n",
              "      <td>0</td>\n",
              "      <td>1</td>\n",
              "      <td>1</td>\n",
              "      <td>0</td>\n",
              "      <td>0</td>\n",
              "      <td>0</td>\n",
              "      <td>...</td>\n",
              "      <td>0</td>\n",
              "      <td>0</td>\n",
              "      <td>0</td>\n",
              "      <td>0</td>\n",
              "      <td>0</td>\n",
              "      <td>1</td>\n",
              "      <td>1</td>\n",
              "      <td>0</td>\n",
              "      <td>0</td>\n",
              "      <td>0</td>\n",
              "    </tr>\n",
              "  </tbody>\n",
              "</table>\n",
              "<p>5 rows × 34 columns</p>\n",
              "</div>\n",
              "    <div class=\"colab-df-buttons\">\n",
              "\n",
              "  <div class=\"colab-df-container\">\n",
              "    <button class=\"colab-df-convert\" onclick=\"convertToInteractive('df-f3823f56-b499-4a9a-b4f9-bac5b6a96dd1')\"\n",
              "            title=\"Convert this dataframe to an interactive table.\"\n",
              "            style=\"display:none;\">\n",
              "\n",
              "  <svg xmlns=\"http://www.w3.org/2000/svg\" height=\"24px\" viewBox=\"0 -960 960 960\">\n",
              "    <path d=\"M120-120v-720h720v720H120Zm60-500h600v-160H180v160Zm220 220h160v-160H400v160Zm0 220h160v-160H400v160ZM180-400h160v-160H180v160Zm440 0h160v-160H620v160ZM180-180h160v-160H180v160Zm440 0h160v-160H620v160Z\"/>\n",
              "  </svg>\n",
              "    </button>\n",
              "\n",
              "  <style>\n",
              "    .colab-df-container {\n",
              "      display:flex;\n",
              "      gap: 12px;\n",
              "    }\n",
              "\n",
              "    .colab-df-convert {\n",
              "      background-color: #E8F0FE;\n",
              "      border: none;\n",
              "      border-radius: 50%;\n",
              "      cursor: pointer;\n",
              "      display: none;\n",
              "      fill: #1967D2;\n",
              "      height: 32px;\n",
              "      padding: 0 0 0 0;\n",
              "      width: 32px;\n",
              "    }\n",
              "\n",
              "    .colab-df-convert:hover {\n",
              "      background-color: #E2EBFA;\n",
              "      box-shadow: 0px 1px 2px rgba(60, 64, 67, 0.3), 0px 1px 3px 1px rgba(60, 64, 67, 0.15);\n",
              "      fill: #174EA6;\n",
              "    }\n",
              "\n",
              "    .colab-df-buttons div {\n",
              "      margin-bottom: 4px;\n",
              "    }\n",
              "\n",
              "    [theme=dark] .colab-df-convert {\n",
              "      background-color: #3B4455;\n",
              "      fill: #D2E3FC;\n",
              "    }\n",
              "\n",
              "    [theme=dark] .colab-df-convert:hover {\n",
              "      background-color: #434B5C;\n",
              "      box-shadow: 0px 1px 3px 1px rgba(0, 0, 0, 0.15);\n",
              "      filter: drop-shadow(0px 1px 2px rgba(0, 0, 0, 0.3));\n",
              "      fill: #FFFFFF;\n",
              "    }\n",
              "  </style>\n",
              "\n",
              "    <script>\n",
              "      const buttonEl =\n",
              "        document.querySelector('#df-f3823f56-b499-4a9a-b4f9-bac5b6a96dd1 button.colab-df-convert');\n",
              "      buttonEl.style.display =\n",
              "        google.colab.kernel.accessAllowed ? 'block' : 'none';\n",
              "\n",
              "      async function convertToInteractive(key) {\n",
              "        const element = document.querySelector('#df-f3823f56-b499-4a9a-b4f9-bac5b6a96dd1');\n",
              "        const dataTable =\n",
              "          await google.colab.kernel.invokeFunction('convertToInteractive',\n",
              "                                                    [key], {});\n",
              "        if (!dataTable) return;\n",
              "\n",
              "        const docLinkHtml = 'Like what you see? Visit the ' +\n",
              "          '<a target=\"_blank\" href=https://colab.research.google.com/notebooks/data_table.ipynb>data table notebook</a>'\n",
              "          + ' to learn more about interactive tables.';\n",
              "        element.innerHTML = '';\n",
              "        dataTable['output_type'] = 'display_data';\n",
              "        await google.colab.output.renderOutput(dataTable, element);\n",
              "        const docLink = document.createElement('div');\n",
              "        docLink.innerHTML = docLinkHtml;\n",
              "        element.appendChild(docLink);\n",
              "      }\n",
              "    </script>\n",
              "  </div>\n",
              "\n",
              "\n",
              "<div id=\"df-7f2c573c-76d4-406a-b624-8e8357b10654\">\n",
              "  <button class=\"colab-df-quickchart\" onclick=\"quickchart('df-7f2c573c-76d4-406a-b624-8e8357b10654')\"\n",
              "            title=\"Suggest charts\"\n",
              "            style=\"display:none;\">\n",
              "\n",
              "<svg xmlns=\"http://www.w3.org/2000/svg\" height=\"24px\"viewBox=\"0 0 24 24\"\n",
              "     width=\"24px\">\n",
              "    <g>\n",
              "        <path d=\"M19 3H5c-1.1 0-2 .9-2 2v14c0 1.1.9 2 2 2h14c1.1 0 2-.9 2-2V5c0-1.1-.9-2-2-2zM9 17H7v-7h2v7zm4 0h-2V7h2v10zm4 0h-2v-4h2v4z\"/>\n",
              "    </g>\n",
              "</svg>\n",
              "  </button>\n",
              "\n",
              "<style>\n",
              "  .colab-df-quickchart {\n",
              "      --bg-color: #E8F0FE;\n",
              "      --fill-color: #1967D2;\n",
              "      --hover-bg-color: #E2EBFA;\n",
              "      --hover-fill-color: #174EA6;\n",
              "      --disabled-fill-color: #AAA;\n",
              "      --disabled-bg-color: #DDD;\n",
              "  }\n",
              "\n",
              "  [theme=dark] .colab-df-quickchart {\n",
              "      --bg-color: #3B4455;\n",
              "      --fill-color: #D2E3FC;\n",
              "      --hover-bg-color: #434B5C;\n",
              "      --hover-fill-color: #FFFFFF;\n",
              "      --disabled-bg-color: #3B4455;\n",
              "      --disabled-fill-color: #666;\n",
              "  }\n",
              "\n",
              "  .colab-df-quickchart {\n",
              "    background-color: var(--bg-color);\n",
              "    border: none;\n",
              "    border-radius: 50%;\n",
              "    cursor: pointer;\n",
              "    display: none;\n",
              "    fill: var(--fill-color);\n",
              "    height: 32px;\n",
              "    padding: 0;\n",
              "    width: 32px;\n",
              "  }\n",
              "\n",
              "  .colab-df-quickchart:hover {\n",
              "    background-color: var(--hover-bg-color);\n",
              "    box-shadow: 0 1px 2px rgba(60, 64, 67, 0.3), 0 1px 3px 1px rgba(60, 64, 67, 0.15);\n",
              "    fill: var(--button-hover-fill-color);\n",
              "  }\n",
              "\n",
              "  .colab-df-quickchart-complete:disabled,\n",
              "  .colab-df-quickchart-complete:disabled:hover {\n",
              "    background-color: var(--disabled-bg-color);\n",
              "    fill: var(--disabled-fill-color);\n",
              "    box-shadow: none;\n",
              "  }\n",
              "\n",
              "  .colab-df-spinner {\n",
              "    border: 2px solid var(--fill-color);\n",
              "    border-color: transparent;\n",
              "    border-bottom-color: var(--fill-color);\n",
              "    animation:\n",
              "      spin 1s steps(1) infinite;\n",
              "  }\n",
              "\n",
              "  @keyframes spin {\n",
              "    0% {\n",
              "      border-color: transparent;\n",
              "      border-bottom-color: var(--fill-color);\n",
              "      border-left-color: var(--fill-color);\n",
              "    }\n",
              "    20% {\n",
              "      border-color: transparent;\n",
              "      border-left-color: var(--fill-color);\n",
              "      border-top-color: var(--fill-color);\n",
              "    }\n",
              "    30% {\n",
              "      border-color: transparent;\n",
              "      border-left-color: var(--fill-color);\n",
              "      border-top-color: var(--fill-color);\n",
              "      border-right-color: var(--fill-color);\n",
              "    }\n",
              "    40% {\n",
              "      border-color: transparent;\n",
              "      border-right-color: var(--fill-color);\n",
              "      border-top-color: var(--fill-color);\n",
              "    }\n",
              "    60% {\n",
              "      border-color: transparent;\n",
              "      border-right-color: var(--fill-color);\n",
              "    }\n",
              "    80% {\n",
              "      border-color: transparent;\n",
              "      border-right-color: var(--fill-color);\n",
              "      border-bottom-color: var(--fill-color);\n",
              "    }\n",
              "    90% {\n",
              "      border-color: transparent;\n",
              "      border-bottom-color: var(--fill-color);\n",
              "    }\n",
              "  }\n",
              "</style>\n",
              "\n",
              "  <script>\n",
              "    async function quickchart(key) {\n",
              "      const quickchartButtonEl =\n",
              "        document.querySelector('#' + key + ' button');\n",
              "      quickchartButtonEl.disabled = true;  // To prevent multiple clicks.\n",
              "      quickchartButtonEl.classList.add('colab-df-spinner');\n",
              "      try {\n",
              "        const charts = await google.colab.kernel.invokeFunction(\n",
              "            'suggestCharts', [key], {});\n",
              "      } catch (error) {\n",
              "        console.error('Error during call to suggestCharts:', error);\n",
              "      }\n",
              "      quickchartButtonEl.classList.remove('colab-df-spinner');\n",
              "      quickchartButtonEl.classList.add('colab-df-quickchart-complete');\n",
              "    }\n",
              "    (() => {\n",
              "      let quickchartButtonEl =\n",
              "        document.querySelector('#df-7f2c573c-76d4-406a-b624-8e8357b10654 button');\n",
              "      quickchartButtonEl.style.display =\n",
              "        google.colab.kernel.accessAllowed ? 'block' : 'none';\n",
              "    })();\n",
              "  </script>\n",
              "</div>\n",
              "\n",
              "    </div>\n",
              "  </div>\n"
            ],
            "application/vnd.google.colaboratory.intrinsic+json": {
              "type": "dataframe",
              "variable_name": "adj_df"
            }
          },
          "metadata": {},
          "execution_count": 35
        }
      ]
    },
    {
      "cell_type": "code",
      "source": [
        "import networkx as nx\n",
        "\n",
        "def find_all_routes_with_edges(graph, start_node, end_node, max_length=None):\n",
        "    try:\n",
        "        # Find all node-based paths\n",
        "        all_routes = list(nx.all_simple_paths(graph, source=start_node, target=end_node, cutoff=max_length))\n",
        "        edge_routes = []\n",
        "\n",
        "        # Convert node paths to edge paths\n",
        "        for path in all_routes:\n",
        "            edge_path = []\n",
        "            for u, v in zip(path[:-1], path[1:]):\n",
        "                if (u, v) in graph.edges:\n",
        "                    edge_id = graph.edges[u, v].get('edge_id')\n",
        "                    edge_path.append(str(edge_id))\n",
        "            edge_routes.append(edge_path)\n",
        "\n",
        "        print(f\"✅ Total Routes from {start_node} to {end_node}: {len(edge_routes)}\")\n",
        "        return edge_routes\n",
        "\n",
        "    except nx.NetworkXNoPath:\n",
        "        print(f\"⚠️ No path found between {start_node} and {end_node}\")\n",
        "        return []\n",
        "\n",
        "# Example usage\n",
        "start_node = 'J1'  # Replace with your actual start node\n",
        "end_node = 'J10'    # Replace with your actual end node\n",
        "routes_with_edges = find_all_routes_with_edges(graph, start_node, end_node)\n",
        "\n",
        "# ✅ Display edge-based routes without quotes or extra characters\n",
        "for i, route in enumerate(routes_with_edges, 1):\n",
        "    formatted_route = \" -> \".join(str(edge).strip(\"'\") for edge in route)\n",
        "    print(f\"Route {i}: {formatted_route}\")\n"
      ],
      "metadata": {
        "colab": {
          "base_uri": "https://localhost:8080/"
        },
        "id": "xdRkn8Fu0FVB",
        "outputId": "44c73552-f932-4a07-f4de-d762153cb3d0"
      },
      "execution_count": null,
      "outputs": [
        {
          "output_type": "stream",
          "name": "stdout",
          "text": [
            "✅ Total Routes from J1 to J10: 144\n",
            "Route 1: E0 -> E1 -> E1.596 -> E2 -> -E32 -> -E21 -> -E19 -> -E18\n",
            "Route 2: E0 -> E1 -> E1.596 -> E2 -> -E32 -> -E21 -> -E19 -> E25 -> E26 -> E27 -> -E35 -> E36 -> -E9.302 -> -E8\n",
            "Route 3: E0 -> E1 -> E1.596 -> E2 -> -E32 -> -E21 -> -E19 -> E25 -> E26 -> E27 -> E28 -> E41 -> -E9 -> -E9.302 -> -E8\n",
            "Route 4: E0 -> E1 -> E1.596 -> E2 -> -E32 -> -E21 -> -E19 -> E25 -> E26 -> E34 -> E35 -> E28 -> E41 -> -E9 -> -E9.302 -> -E8\n",
            "Route 5: E0 -> E1 -> E1.596 -> E2 -> -E32 -> -E21 -> -E19 -> E25 -> E26 -> E34 -> E36 -> -E9.302 -> -E8\n",
            "Route 6: E0 -> E1 -> E1.596 -> E2 -> -E32 -> -E21 -> -E19 -> E25 -> E33 -> -E8\n",
            "Route 7: E0 -> E1 -> E1.596 -> E2 -> -E32 -> -E21 -> -E19 -> E37 -> -E29 -> -E28 -> -E27 -> -E26 -> E33 -> -E8\n",
            "Route 8: E0 -> E1 -> E1.596 -> E2 -> -E32 -> -E21 -> -E19 -> E37 -> -E29 -> -E28 -> -E27 -> E34 -> E36 -> -E9.302 -> -E8\n",
            "Route 9: E0 -> E1 -> E1.596 -> E2 -> -E32 -> -E21 -> -E19 -> E37 -> -E29 -> -E28 -> -E35 -> -E34 -> -E26 -> E33 -> -E8\n",
            "Route 10: E0 -> E1 -> E1.596 -> E2 -> -E32 -> -E21 -> -E19 -> E37 -> -E29 -> -E28 -> -E35 -> E36 -> -E9.302 -> -E8\n",
            "Route 11: E0 -> E1 -> E1.596 -> E2 -> -E32 -> -E21 -> -E19 -> E37 -> -E29 -> E41 -> -E9 -> -E36 -> -E34 -> -E26 -> E33 -> -E8\n",
            "Route 12: E0 -> E1 -> E1.596 -> E2 -> -E32 -> -E21 -> -E19 -> E37 -> -E29 -> E41 -> -E9 -> -E36 -> E35 -> -E27 -> -E26 -> E33 -> -E8\n",
            "Route 13: E0 -> E1 -> E1.596 -> E2 -> -E32 -> -E21 -> -E19 -> E37 -> -E29 -> E41 -> -E9 -> -E9.302 -> -E8\n",
            "Route 14: E0 -> E1 -> E1.596 -> E2 -> -E32 -> -E21 -> E21 -> -E11 -> -E10 -> -E41 -> -E28 -> -E27 -> -E26 -> -E25 -> -E18\n",
            "Route 15: E0 -> E1 -> E1.596 -> E2 -> -E32 -> -E21 -> E21 -> -E11 -> -E10 -> -E41 -> -E28 -> -E27 -> -E26 -> E33 -> -E8\n",
            "Route 16: E0 -> E1 -> E1.596 -> E2 -> -E32 -> -E21 -> E21 -> -E11 -> -E10 -> -E41 -> -E28 -> -E27 -> E34 -> E36 -> -E9.302 -> -E33 -> -E25 -> -E18\n",
            "Route 17: E0 -> E1 -> E1.596 -> E2 -> -E32 -> -E21 -> E21 -> -E11 -> -E10 -> -E41 -> -E28 -> -E27 -> E34 -> E36 -> -E9.302 -> -E8\n",
            "Route 18: E0 -> E1 -> E1.596 -> E2 -> -E32 -> -E21 -> E21 -> -E11 -> -E10 -> -E41 -> -E28 -> -E35 -> -E34 -> -E26 -> -E25 -> -E18\n",
            "Route 19: E0 -> E1 -> E1.596 -> E2 -> -E32 -> -E21 -> E21 -> -E11 -> -E10 -> -E41 -> -E28 -> -E35 -> -E34 -> -E26 -> E33 -> -E8\n",
            "Route 20: E0 -> E1 -> E1.596 -> E2 -> -E32 -> -E21 -> E21 -> -E11 -> -E10 -> -E41 -> -E28 -> -E35 -> E36 -> -E9.302 -> -E33 -> -E25 -> -E18\n",
            "Route 21: E0 -> E1 -> E1.596 -> E2 -> -E32 -> -E21 -> E21 -> -E11 -> -E10 -> -E41 -> -E28 -> -E35 -> E36 -> -E9.302 -> -E8\n",
            "Route 22: E0 -> E1 -> E1.596 -> E2 -> -E32 -> -E21 -> E21 -> -E11 -> -E10 -> -E41 -> E29 -> -E37 -> -E18\n",
            "Route 23: E0 -> E1 -> E1.596 -> E2 -> -E32 -> -E21 -> E21 -> -E11 -> -E10 -> -E41 -> E29 -> -E37 -> E25 -> E26 -> E27 -> -E35 -> E36 -> -E9.302 -> -E8\n",
            "Route 24: E0 -> E1 -> E1.596 -> E2 -> -E32 -> -E21 -> E21 -> -E11 -> -E10 -> -E41 -> E29 -> -E37 -> E25 -> E26 -> E34 -> E36 -> -E9.302 -> -E8\n",
            "Route 25: E0 -> E1 -> E1.596 -> E2 -> -E32 -> -E21 -> E21 -> -E11 -> -E10 -> -E41 -> E29 -> -E37 -> E25 -> E33 -> -E8\n",
            "Route 26: E0 -> E1 -> E1.596 -> E2 -> -E32 -> -E21 -> E21 -> -E11 -> -E10 -> -E9 -> -E36 -> -E34 -> -E26 -> -E25 -> -E18\n",
            "Route 27: E0 -> E1 -> E1.596 -> E2 -> -E32 -> -E21 -> E21 -> -E11 -> -E10 -> -E9 -> -E36 -> -E34 -> -E26 -> E33 -> -E8\n",
            "Route 28: E0 -> E1 -> E1.596 -> E2 -> -E32 -> -E21 -> E21 -> -E11 -> -E10 -> -E9 -> -E36 -> -E34 -> E27 -> E28 -> E29 -> -E37 -> -E18\n",
            "Route 29: E0 -> E1 -> E1.596 -> E2 -> -E32 -> -E21 -> E21 -> -E11 -> -E10 -> -E9 -> -E36 -> -E34 -> E27 -> E28 -> E29 -> -E37 -> E25 -> E33 -> -E8\n",
            "Route 30: E0 -> E1 -> E1.596 -> E2 -> -E32 -> -E21 -> E21 -> -E11 -> -E10 -> -E9 -> -E36 -> E35 -> -E27 -> -E26 -> -E25 -> -E18\n",
            "Route 31: E0 -> E1 -> E1.596 -> E2 -> -E32 -> -E21 -> E21 -> -E11 -> -E10 -> -E9 -> -E36 -> E35 -> -E27 -> -E26 -> E33 -> -E8\n",
            "Route 32: E0 -> E1 -> E1.596 -> E2 -> -E32 -> -E21 -> E21 -> -E11 -> -E10 -> -E9 -> -E36 -> E35 -> E28 -> E29 -> -E37 -> -E18\n",
            "Route 33: E0 -> E1 -> E1.596 -> E2 -> -E32 -> -E21 -> E21 -> -E11 -> -E10 -> -E9 -> -E36 -> E35 -> E28 -> E29 -> -E37 -> E25 -> E33 -> -E8\n",
            "Route 34: E0 -> E1 -> E1.596 -> E2 -> -E32 -> -E21 -> E21 -> -E11 -> -E10 -> -E9 -> -E9.302 -> -E33 -> -E25 -> -E18\n",
            "Route 35: E0 -> E1 -> E1.596 -> E2 -> -E32 -> -E21 -> E21 -> -E11 -> -E10 -> -E9 -> -E9.302 -> -E33 -> E26 -> E27 -> E28 -> E29 -> -E37 -> -E18\n",
            "Route 36: E0 -> E1 -> E1.596 -> E2 -> -E32 -> -E21 -> E21 -> -E11 -> -E10 -> -E9 -> -E9.302 -> -E33 -> E26 -> E34 -> E35 -> E28 -> E29 -> -E37 -> -E18\n",
            "Route 37: E0 -> E1 -> E1.596 -> E2 -> -E32 -> -E21 -> E21 -> -E11 -> -E10 -> -E9 -> -E9.302 -> -E8\n",
            "Route 38: E0 -> E1 -> E1.596 -> E2 -> -E32 -> -E31 -> -E29 -> -E28 -> -E27 -> -E26 -> -E25 -> -E18\n",
            "Route 39: E0 -> E1 -> E1.596 -> E2 -> -E32 -> -E31 -> -E29 -> -E28 -> -E27 -> -E26 -> -E25 -> E19 -> E21 -> -E11 -> -E10 -> -E9 -> -E9.302 -> -E8\n",
            "Route 40: E0 -> E1 -> E1.596 -> E2 -> -E32 -> -E31 -> -E29 -> -E28 -> -E27 -> -E26 -> E33 -> -E8\n",
            "Route 41: E0 -> E1 -> E1.596 -> E2 -> -E32 -> -E31 -> -E29 -> -E28 -> -E27 -> -E26 -> E33 -> E9 -> E9.823 -> E10 -> E11 -> -E211 -> -E19 -> -E18\n",
            "Route 42: E0 -> E1 -> E1.596 -> E2 -> -E32 -> -E31 -> -E29 -> -E28 -> -E27 -> E34 -> E36 -> -E9.302 -> -E33 -> -E25 -> -E18\n",
            "Route 43: E0 -> E1 -> E1.596 -> E2 -> -E32 -> -E31 -> -E29 -> -E28 -> -E27 -> E34 -> E36 -> -E9.302 -> -E8\n",
            "Route 44: E0 -> E1 -> E1.596 -> E2 -> -E32 -> -E31 -> -E29 -> -E28 -> -E27 -> E34 -> E36 -> E9.823 -> E10 -> E11 -> -E211 -> -E19 -> -E18\n",
            "Route 45: E0 -> E1 -> E1.596 -> E2 -> -E32 -> -E31 -> -E29 -> -E28 -> -E27 -> E34 -> E36 -> E9.823 -> E10 -> E11 -> -E211 -> -E19 -> E25 -> E33 -> -E8\n",
            "Route 46: E0 -> E1 -> E1.596 -> E2 -> -E32 -> -E31 -> -E29 -> -E28 -> -E35 -> -E34 -> -E26 -> -E25 -> -E18\n",
            "Route 47: E0 -> E1 -> E1.596 -> E2 -> -E32 -> -E31 -> -E29 -> -E28 -> -E35 -> -E34 -> -E26 -> -E25 -> E19 -> E21 -> -E11 -> -E10 -> -E9 -> -E9.302 -> -E8\n",
            "Route 48: E0 -> E1 -> E1.596 -> E2 -> -E32 -> -E31 -> -E29 -> -E28 -> -E35 -> -E34 -> -E26 -> E33 -> -E8\n",
            "Route 49: E0 -> E1 -> E1.596 -> E2 -> -E32 -> -E31 -> -E29 -> -E28 -> -E35 -> -E34 -> -E26 -> E33 -> E9 -> E9.823 -> E10 -> E11 -> -E211 -> -E19 -> -E18\n",
            "Route 50: E0 -> E1 -> E1.596 -> E2 -> -E32 -> -E31 -> -E29 -> -E28 -> -E35 -> E36 -> -E9.302 -> -E33 -> -E25 -> -E18\n",
            "Route 51: E0 -> E1 -> E1.596 -> E2 -> -E32 -> -E31 -> -E29 -> -E28 -> -E35 -> E36 -> -E9.302 -> -E8\n",
            "Route 52: E0 -> E1 -> E1.596 -> E2 -> -E32 -> -E31 -> -E29 -> -E28 -> -E35 -> E36 -> E9.823 -> E10 -> E11 -> -E211 -> -E19 -> -E18\n",
            "Route 53: E0 -> E1 -> E1.596 -> E2 -> -E32 -> -E31 -> -E29 -> -E28 -> -E35 -> E36 -> E9.823 -> E10 -> E11 -> -E211 -> -E19 -> E25 -> E33 -> -E8\n",
            "Route 54: E0 -> E1 -> E1.596 -> E2 -> -E32 -> -E31 -> -E29 -> E41 -> -E9 -> -E36 -> -E34 -> -E26 -> -E25 -> -E18\n",
            "Route 55: E0 -> E1 -> E1.596 -> E2 -> -E32 -> -E31 -> -E29 -> E41 -> -E9 -> -E36 -> -E34 -> -E26 -> E33 -> -E8\n",
            "Route 56: E0 -> E1 -> E1.596 -> E2 -> -E32 -> -E31 -> -E29 -> E41 -> -E9 -> -E36 -> E35 -> -E27 -> -E26 -> -E25 -> -E18\n",
            "Route 57: E0 -> E1 -> E1.596 -> E2 -> -E32 -> -E31 -> -E29 -> E41 -> -E9 -> -E36 -> E35 -> -E27 -> -E26 -> E33 -> -E8\n",
            "Route 58: E0 -> E1 -> E1.596 -> E2 -> -E32 -> -E31 -> -E29 -> E41 -> -E9 -> -E9.302 -> -E33 -> -E25 -> -E18\n",
            "Route 59: E0 -> E1 -> E1.596 -> E2 -> -E32 -> -E31 -> -E29 -> E41 -> -E9 -> -E9.302 -> -E8\n",
            "Route 60: E0 -> E1 -> E1.596 -> E2 -> -E32 -> -E31 -> -E29 -> E41 -> E10 -> E11 -> -E211 -> -E19 -> -E18\n",
            "Route 61: E0 -> E1 -> E1.596 -> E2 -> -E32 -> -E31 -> -E29 -> E41 -> E10 -> E11 -> -E211 -> -E19 -> E25 -> E26 -> E27 -> -E35 -> E36 -> -E9.302 -> -E8\n",
            "Route 62: E0 -> E1 -> E1.596 -> E2 -> -E32 -> -E31 -> -E29 -> E41 -> E10 -> E11 -> -E211 -> -E19 -> E25 -> E26 -> E34 -> E36 -> -E9.302 -> -E8\n",
            "Route 63: E0 -> E1 -> E1.596 -> E2 -> -E32 -> -E31 -> -E29 -> E41 -> E10 -> E11 -> -E211 -> -E19 -> E25 -> E33 -> -E8\n",
            "Route 64: E0 -> E1 -> E1.596 -> E2 -> -E32 -> -E31 -> -E37 -> -E18\n",
            "Route 65: E0 -> E1 -> E1.596 -> E2 -> -E32 -> -E31 -> -E37 -> E19 -> E21 -> -E11 -> -E10 -> -E41 -> -E28 -> -E27 -> -E26 -> E33 -> -E8\n",
            "Route 66: E0 -> E1 -> E1.596 -> E2 -> -E32 -> -E31 -> -E37 -> E19 -> E21 -> -E11 -> -E10 -> -E41 -> -E28 -> -E27 -> E34 -> E36 -> -E9.302 -> -E8\n",
            "Route 67: E0 -> E1 -> E1.596 -> E2 -> -E32 -> -E31 -> -E37 -> E19 -> E21 -> -E11 -> -E10 -> -E41 -> -E28 -> -E35 -> -E34 -> -E26 -> E33 -> -E8\n",
            "Route 68: E0 -> E1 -> E1.596 -> E2 -> -E32 -> -E31 -> -E37 -> E19 -> E21 -> -E11 -> -E10 -> -E41 -> -E28 -> -E35 -> E36 -> -E9.302 -> -E8\n",
            "Route 69: E0 -> E1 -> E1.596 -> E2 -> -E32 -> -E31 -> -E37 -> E19 -> E21 -> -E11 -> -E10 -> -E9 -> -E36 -> -E34 -> -E26 -> E33 -> -E8\n",
            "Route 70: E0 -> E1 -> E1.596 -> E2 -> -E32 -> -E31 -> -E37 -> E19 -> E21 -> -E11 -> -E10 -> -E9 -> -E36 -> E35 -> -E27 -> -E26 -> E33 -> -E8\n",
            "Route 71: E0 -> E1 -> E1.596 -> E2 -> -E32 -> -E31 -> -E37 -> E19 -> E21 -> -E11 -> -E10 -> -E9 -> -E9.302 -> -E8\n",
            "Route 72: E0 -> E1 -> E1.596 -> E2 -> -E32 -> -E31 -> -E37 -> E25 -> E26 -> E27 -> -E35 -> E36 -> -E9.302 -> -E8\n",
            "Route 73: E0 -> E1 -> E1.596 -> E2 -> -E32 -> -E31 -> -E37 -> E25 -> E26 -> E27 -> E28 -> E41 -> -E9 -> -E9.302 -> -E8\n",
            "Route 74: E0 -> E1 -> E1.596 -> E2 -> -E32 -> -E31 -> -E37 -> E25 -> E26 -> E34 -> E35 -> E28 -> E41 -> -E9 -> -E9.302 -> -E8\n",
            "Route 75: E0 -> E1 -> E1.596 -> E2 -> -E32 -> -E31 -> -E37 -> E25 -> E26 -> E34 -> E36 -> -E9.302 -> -E8\n",
            "Route 76: E0 -> E1 -> E1.596 -> E2 -> -E32 -> -E31 -> -E37 -> E25 -> E33 -> -E8\n",
            "Route 77: E0 -> E1 -> E1.596 -> E2 -> E2.669 -> -E12 -> -E11 -> -E10 -> -E41 -> -E28 -> -E27 -> -E26 -> -E25 -> -E18\n",
            "Route 78: E0 -> E1 -> E1.596 -> E2 -> E2.669 -> -E12 -> -E11 -> -E10 -> -E41 -> -E28 -> -E27 -> -E26 -> E33 -> -E8\n",
            "Route 79: E0 -> E1 -> E1.596 -> E2 -> E2.669 -> -E12 -> -E11 -> -E10 -> -E41 -> -E28 -> -E27 -> E34 -> E36 -> -E9.302 -> -E33 -> -E25 -> -E18\n",
            "Route 80: E0 -> E1 -> E1.596 -> E2 -> E2.669 -> -E12 -> -E11 -> -E10 -> -E41 -> -E28 -> -E27 -> E34 -> E36 -> -E9.302 -> -E8\n",
            "Route 81: E0 -> E1 -> E1.596 -> E2 -> E2.669 -> -E12 -> -E11 -> -E10 -> -E41 -> -E28 -> -E35 -> -E34 -> -E26 -> -E25 -> -E18\n",
            "Route 82: E0 -> E1 -> E1.596 -> E2 -> E2.669 -> -E12 -> -E11 -> -E10 -> -E41 -> -E28 -> -E35 -> -E34 -> -E26 -> E33 -> -E8\n",
            "Route 83: E0 -> E1 -> E1.596 -> E2 -> E2.669 -> -E12 -> -E11 -> -E10 -> -E41 -> -E28 -> -E35 -> E36 -> -E9.302 -> -E33 -> -E25 -> -E18\n",
            "Route 84: E0 -> E1 -> E1.596 -> E2 -> E2.669 -> -E12 -> -E11 -> -E10 -> -E41 -> -E28 -> -E35 -> E36 -> -E9.302 -> -E8\n",
            "Route 85: E0 -> E1 -> E1.596 -> E2 -> E2.669 -> -E12 -> -E11 -> -E10 -> -E41 -> E29 -> -E37 -> -E18\n",
            "Route 86: E0 -> E1 -> E1.596 -> E2 -> E2.669 -> -E12 -> -E11 -> -E10 -> -E41 -> E29 -> -E37 -> E25 -> E26 -> E27 -> -E35 -> E36 -> -E9.302 -> -E8\n",
            "Route 87: E0 -> E1 -> E1.596 -> E2 -> E2.669 -> -E12 -> -E11 -> -E10 -> -E41 -> E29 -> -E37 -> E25 -> E26 -> E34 -> E36 -> -E9.302 -> -E8\n",
            "Route 88: E0 -> E1 -> E1.596 -> E2 -> E2.669 -> -E12 -> -E11 -> -E10 -> -E41 -> E29 -> -E37 -> E25 -> E33 -> -E8\n",
            "Route 89: E0 -> E1 -> E1.596 -> E2 -> E2.669 -> -E12 -> -E11 -> -E10 -> -E41 -> E29 -> E310 -> -E21 -> -E19 -> -E18\n",
            "Route 90: E0 -> E1 -> E1.596 -> E2 -> E2.669 -> -E12 -> -E11 -> -E10 -> -E41 -> E29 -> E310 -> -E21 -> -E19 -> E25 -> E26 -> E27 -> -E35 -> E36 -> -E9.302 -> -E8\n",
            "Route 91: E0 -> E1 -> E1.596 -> E2 -> E2.669 -> -E12 -> -E11 -> -E10 -> -E41 -> E29 -> E310 -> -E21 -> -E19 -> E25 -> E26 -> E34 -> E36 -> -E9.302 -> -E8\n",
            "Route 92: E0 -> E1 -> E1.596 -> E2 -> E2.669 -> -E12 -> -E11 -> -E10 -> -E41 -> E29 -> E310 -> -E21 -> -E19 -> E25 -> E33 -> -E8\n",
            "Route 93: E0 -> E1 -> E1.596 -> E2 -> E2.669 -> -E12 -> -E11 -> -E10 -> -E9 -> -E36 -> -E34 -> -E26 -> -E25 -> -E18\n",
            "Route 94: E0 -> E1 -> E1.596 -> E2 -> E2.669 -> -E12 -> -E11 -> -E10 -> -E9 -> -E36 -> -E34 -> -E26 -> E33 -> -E8\n",
            "Route 95: E0 -> E1 -> E1.596 -> E2 -> E2.669 -> -E12 -> -E11 -> -E10 -> -E9 -> -E36 -> -E34 -> E27 -> E28 -> E29 -> -E37 -> -E18\n",
            "Route 96: E0 -> E1 -> E1.596 -> E2 -> E2.669 -> -E12 -> -E11 -> -E10 -> -E9 -> -E36 -> -E34 -> E27 -> E28 -> E29 -> -E37 -> E25 -> E33 -> -E8\n",
            "Route 97: E0 -> E1 -> E1.596 -> E2 -> E2.669 -> -E12 -> -E11 -> -E10 -> -E9 -> -E36 -> -E34 -> E27 -> E28 -> E29 -> E310 -> -E21 -> -E19 -> -E18\n",
            "Route 98: E0 -> E1 -> E1.596 -> E2 -> E2.669 -> -E12 -> -E11 -> -E10 -> -E9 -> -E36 -> -E34 -> E27 -> E28 -> E29 -> E310 -> -E21 -> -E19 -> E25 -> E33 -> -E8\n",
            "Route 99: E0 -> E1 -> E1.596 -> E2 -> E2.669 -> -E12 -> -E11 -> -E10 -> -E9 -> -E36 -> E35 -> -E27 -> -E26 -> -E25 -> -E18\n",
            "Route 100: E0 -> E1 -> E1.596 -> E2 -> E2.669 -> -E12 -> -E11 -> -E10 -> -E9 -> -E36 -> E35 -> -E27 -> -E26 -> E33 -> -E8\n",
            "Route 101: E0 -> E1 -> E1.596 -> E2 -> E2.669 -> -E12 -> -E11 -> -E10 -> -E9 -> -E36 -> E35 -> E28 -> E29 -> -E37 -> -E18\n",
            "Route 102: E0 -> E1 -> E1.596 -> E2 -> E2.669 -> -E12 -> -E11 -> -E10 -> -E9 -> -E36 -> E35 -> E28 -> E29 -> -E37 -> E25 -> E33 -> -E8\n",
            "Route 103: E0 -> E1 -> E1.596 -> E2 -> E2.669 -> -E12 -> -E11 -> -E10 -> -E9 -> -E36 -> E35 -> E28 -> E29 -> E310 -> -E21 -> -E19 -> -E18\n",
            "Route 104: E0 -> E1 -> E1.596 -> E2 -> E2.669 -> -E12 -> -E11 -> -E10 -> -E9 -> -E36 -> E35 -> E28 -> E29 -> E310 -> -E21 -> -E19 -> E25 -> E33 -> -E8\n",
            "Route 105: E0 -> E1 -> E1.596 -> E2 -> E2.669 -> -E12 -> -E11 -> -E10 -> -E9 -> -E9.302 -> -E33 -> -E25 -> -E18\n",
            "Route 106: E0 -> E1 -> E1.596 -> E2 -> E2.669 -> -E12 -> -E11 -> -E10 -> -E9 -> -E9.302 -> -E33 -> E26 -> E27 -> E28 -> E29 -> -E37 -> -E18\n",
            "Route 107: E0 -> E1 -> E1.596 -> E2 -> E2.669 -> -E12 -> -E11 -> -E10 -> -E9 -> -E9.302 -> -E33 -> E26 -> E27 -> E28 -> E29 -> E310 -> -E21 -> -E19 -> -E18\n",
            "Route 108: E0 -> E1 -> E1.596 -> E2 -> E2.669 -> -E12 -> -E11 -> -E10 -> -E9 -> -E9.302 -> -E33 -> E26 -> E34 -> E35 -> E28 -> E29 -> -E37 -> -E18\n",
            "Route 109: E0 -> E1 -> E1.596 -> E2 -> E2.669 -> -E12 -> -E11 -> -E10 -> -E9 -> -E9.302 -> -E33 -> E26 -> E34 -> E35 -> E28 -> E29 -> E310 -> -E21 -> -E19 -> -E18\n",
            "Route 110: E0 -> E1 -> E1.596 -> E2 -> E2.669 -> -E12 -> -E11 -> -E10 -> -E9 -> -E9.302 -> -E8\n",
            "Route 111: E0 -> E1 -> E1.596 -> E2 -> E2.669 -> -E12 -> -E211 -> -E19 -> -E18\n",
            "Route 112: E0 -> E1 -> E1.596 -> E2 -> E2.669 -> -E12 -> -E211 -> -E19 -> E25 -> E26 -> E27 -> -E35 -> E36 -> -E9.302 -> -E8\n",
            "Route 113: E0 -> E1 -> E1.596 -> E2 -> E2.669 -> -E12 -> -E211 -> -E19 -> E25 -> E26 -> E27 -> E28 -> E41 -> -E9 -> -E9.302 -> -E8\n",
            "Route 114: E0 -> E1 -> E1.596 -> E2 -> E2.669 -> -E12 -> -E211 -> -E19 -> E25 -> E26 -> E34 -> E35 -> E28 -> E41 -> -E9 -> -E9.302 -> -E8\n",
            "Route 115: E0 -> E1 -> E1.596 -> E2 -> E2.669 -> -E12 -> -E211 -> -E19 -> E25 -> E26 -> E34 -> E36 -> -E9.302 -> -E8\n",
            "Route 116: E0 -> E1 -> E1.596 -> E2 -> E2.669 -> -E12 -> -E211 -> -E19 -> E25 -> E33 -> -E8\n",
            "Route 117: E0 -> E1 -> E1.596 -> E2 -> E2.669 -> -E12 -> -E211 -> -E19 -> E37 -> -E29 -> -E28 -> -E27 -> -E26 -> E33 -> -E8\n",
            "Route 118: E0 -> E1 -> E1.596 -> E2 -> E2.669 -> -E12 -> -E211 -> -E19 -> E37 -> -E29 -> -E28 -> -E27 -> E34 -> E36 -> -E9.302 -> -E8\n",
            "Route 119: E0 -> E1 -> E1.596 -> E2 -> E2.669 -> -E12 -> -E211 -> -E19 -> E37 -> -E29 -> -E28 -> -E35 -> -E34 -> -E26 -> E33 -> -E8\n",
            "Route 120: E0 -> E1 -> E1.596 -> E2 -> E2.669 -> -E12 -> -E211 -> -E19 -> E37 -> -E29 -> -E28 -> -E35 -> E36 -> -E9.302 -> -E8\n",
            "Route 121: E0 -> E1 -> E1.596 -> E2 -> E2.669 -> -E12 -> -E211 -> -E19 -> E37 -> -E29 -> E41 -> -E9 -> -E36 -> -E34 -> -E26 -> E33 -> -E8\n",
            "Route 122: E0 -> E1 -> E1.596 -> E2 -> E2.669 -> -E12 -> -E211 -> -E19 -> E37 -> -E29 -> E41 -> -E9 -> -E36 -> E35 -> -E27 -> -E26 -> E33 -> -E8\n",
            "Route 123: E0 -> E1 -> E1.596 -> E2 -> E2.669 -> -E12 -> -E211 -> -E19 -> E37 -> -E29 -> E41 -> -E9 -> -E9.302 -> -E8\n",
            "Route 124: E0 -> E1 -> E1.596 -> E2 -> E2.669 -> -E12 -> -E211 -> E20 -> -E31 -> -E29 -> -E28 -> -E27 -> -E26 -> -E25 -> -E18\n",
            "Route 125: E0 -> E1 -> E1.596 -> E2 -> E2.669 -> -E12 -> -E211 -> E20 -> -E31 -> -E29 -> -E28 -> -E27 -> -E26 -> E33 -> -E8\n",
            "Route 126: E0 -> E1 -> E1.596 -> E2 -> E2.669 -> -E12 -> -E211 -> E20 -> -E31 -> -E29 -> -E28 -> -E27 -> E34 -> E36 -> -E9.302 -> -E33 -> -E25 -> -E18\n",
            "Route 127: E0 -> E1 -> E1.596 -> E2 -> E2.669 -> -E12 -> -E211 -> E20 -> -E31 -> -E29 -> -E28 -> -E27 -> E34 -> E36 -> -E9.302 -> -E8\n",
            "Route 128: E0 -> E1 -> E1.596 -> E2 -> E2.669 -> -E12 -> -E211 -> E20 -> -E31 -> -E29 -> -E28 -> -E35 -> -E34 -> -E26 -> -E25 -> -E18\n",
            "Route 129: E0 -> E1 -> E1.596 -> E2 -> E2.669 -> -E12 -> -E211 -> E20 -> -E31 -> -E29 -> -E28 -> -E35 -> -E34 -> -E26 -> E33 -> -E8\n",
            "Route 130: E0 -> E1 -> E1.596 -> E2 -> E2.669 -> -E12 -> -E211 -> E20 -> -E31 -> -E29 -> -E28 -> -E35 -> E36 -> -E9.302 -> -E33 -> -E25 -> -E18\n",
            "Route 131: E0 -> E1 -> E1.596 -> E2 -> E2.669 -> -E12 -> -E211 -> E20 -> -E31 -> -E29 -> -E28 -> -E35 -> E36 -> -E9.302 -> -E8\n",
            "Route 132: E0 -> E1 -> E1.596 -> E2 -> E2.669 -> -E12 -> -E211 -> E20 -> -E31 -> -E29 -> E41 -> -E9 -> -E36 -> -E34 -> -E26 -> -E25 -> -E18\n",
            "Route 133: E0 -> E1 -> E1.596 -> E2 -> E2.669 -> -E12 -> -E211 -> E20 -> -E31 -> -E29 -> E41 -> -E9 -> -E36 -> -E34 -> -E26 -> E33 -> -E8\n",
            "Route 134: E0 -> E1 -> E1.596 -> E2 -> E2.669 -> -E12 -> -E211 -> E20 -> -E31 -> -E29 -> E41 -> -E9 -> -E36 -> E35 -> -E27 -> -E26 -> -E25 -> -E18\n",
            "Route 135: E0 -> E1 -> E1.596 -> E2 -> E2.669 -> -E12 -> -E211 -> E20 -> -E31 -> -E29 -> E41 -> -E9 -> -E36 -> E35 -> -E27 -> -E26 -> E33 -> -E8\n",
            "Route 136: E0 -> E1 -> E1.596 -> E2 -> E2.669 -> -E12 -> -E211 -> E20 -> -E31 -> -E29 -> E41 -> -E9 -> -E9.302 -> -E33 -> -E25 -> -E18\n",
            "Route 137: E0 -> E1 -> E1.596 -> E2 -> E2.669 -> -E12 -> -E211 -> E20 -> -E31 -> -E29 -> E41 -> -E9 -> -E9.302 -> -E8\n",
            "Route 138: E0 -> E1 -> E1.596 -> E2 -> E2.669 -> -E12 -> -E211 -> E20 -> -E31 -> -E37 -> -E18\n",
            "Route 139: E0 -> E1 -> E1.596 -> E2 -> E2.669 -> -E12 -> -E211 -> E20 -> -E31 -> -E37 -> E25 -> E26 -> E27 -> -E35 -> E36 -> -E9.302 -> -E8\n",
            "Route 140: E0 -> E1 -> E1.596 -> E2 -> E2.669 -> -E12 -> -E211 -> E20 -> -E31 -> -E37 -> E25 -> E26 -> E27 -> E28 -> E41 -> -E9 -> -E9.302 -> -E8\n",
            "Route 141: E0 -> E1 -> E1.596 -> E2 -> E2.669 -> -E12 -> -E211 -> E20 -> -E31 -> -E37 -> E25 -> E26 -> E34 -> E35 -> E28 -> E41 -> -E9 -> -E9.302 -> -E8\n",
            "Route 142: E0 -> E1 -> E1.596 -> E2 -> E2.669 -> -E12 -> -E211 -> E20 -> -E31 -> -E37 -> E25 -> E26 -> E34 -> E36 -> -E9.302 -> -E8\n",
            "Route 143: E0 -> E1 -> E1.596 -> E2 -> E2.669 -> -E12 -> -E211 -> E20 -> -E31 -> -E37 -> E25 -> E33 -> -E8\n",
            "Route 144: E0 -> E6\n"
          ]
        }
      ]
    },
    {
      "cell_type": "code",
      "source": [
        "import csv\n",
        "\n",
        "input_file = '/content/all_edge_data.csv'\n",
        "output_file = 'all_edge_data_cleaned.csv'\n",
        "\n",
        "with open(input_file, 'r') as infile, open(output_file, 'w', newline='') as outfile:\n",
        "    reader = csv.reader(infile)\n",
        "    writer = csv.writer(outfile)\n",
        "\n",
        "    header = next(reader)  # Copy header\n",
        "    writer.writerow(header)\n",
        "\n",
        "    for row in reader:\n",
        "        if not row or len(row) < 6:\n",
        "            continue  # Skip empty or malformed rows\n",
        "\n",
        "        edge_id = row[1].lstrip(\"'\")  # Remove single quote\n",
        "        if edge_id.startswith(\":\"):\n",
        "            continue  # Skip internal edges\n",
        "\n",
        "        try:\n",
        "            avg_speed = float(row[2])\n",
        "            vehicle_count = int(float(row[3]))  # Convert vehicle count safely\n",
        "        except ValueError:\n",
        "            continue  # Skip invalid numeric data\n",
        "\n",
        "        if vehicle_count == 0 or avg_speed == 0:\n",
        "            continue  # Skip zero-traffic data\n",
        "\n",
        "        row[1] = edge_id  # Update cleaned edge_id back in row\n",
        "        writer.writerow(row)\n"
      ],
      "metadata": {
        "id": "HRj5dZOQ_ju2"
      },
      "execution_count": null,
      "outputs": []
    },
    {
      "cell_type": "code",
      "source": [
        "import pandas as pd\n",
        "\n",
        "# Load data\n",
        "data = pd.read_csv(\"/content/all_edge_data_cleaned.csv\")\n",
        "print(data.head(100))\n"
      ],
      "metadata": {
        "colab": {
          "base_uri": "https://localhost:8080/"
        },
        "id": "4CK1k2Yv09Fx",
        "outputId": "c18c2476-a1d8-41cf-cfa4-8464f8cf1cb5"
      },
      "execution_count": null,
      "outputs": [
        {
          "output_type": "stream",
          "name": "stdout",
          "text": [
            "    step edge_id  avg_speed  vehicle_count  occupancy  traffic_flow\n",
            "0    100    -E10  20.978846              1   0.467942     20.978846\n",
            "1    100    -E12  18.802583              1   0.289989     18.802583\n",
            "2    100    -E13  18.020909              3   1.000383     54.062726\n",
            "3    100    -E15  15.464651              2   0.556756     30.929301\n",
            "4    100    -E16  20.160676              2   0.340483     40.321351\n",
            "..   ...     ...        ...            ...        ...           ...\n",
            "95   300     E11  22.388820              1   0.231726     22.388820\n",
            "96   300     E12  16.609491              3   0.668554     49.828473\n",
            "97   300     E18  19.413409              1   0.235329     19.413409\n",
            "98   300     E19  18.613622              2   0.839543     37.227245\n",
            "99   300      E2  11.934880              4   1.031776     47.739518\n",
            "\n",
            "[100 rows x 6 columns]\n"
          ]
        }
      ]
    },
    {
      "cell_type": "code",
      "source": [
        "import pandas as pd\n",
        "import numpy as np\n",
        "from sklearn.preprocessing import MinMaxScaler\n",
        "from tensorflow.keras.models import Sequential\n",
        "from tensorflow.keras.layers import LSTM, Dense\n",
        "from tqdm import tqdm\n",
        "\n",
        "# Load the traffic data\n",
        "traffic_data = pd.read_csv('/content/all_edge_data_cleaned.csv')\n",
        "\n",
        "# Dictionary to hold predicted traffic_flow and travel times\n",
        "predicted_traffic = {}\n",
        "predicted_travel_time = {}\n",
        "\n",
        "# Parameters\n",
        "sequence_length = 10\n",
        "epochs = 5  # For demo; increase for better training\n",
        "batch_size = 16\n",
        "\n",
        "# Loop over all unique edges\n",
        "edge_ids = traffic_data['edge_id'].unique()\n",
        "\n",
        "for edge_id in tqdm(edge_ids, desc=\"Training LSTM per edge\"):\n",
        "    # Extract and sort data for the current edge\n",
        "    edge_data = traffic_data[traffic_data['edge_id'] == edge_id].sort_values(by='step')\n",
        "\n",
        "    # Skip if not enough data\n",
        "    if len(edge_data) <= sequence_length:\n",
        "        continue\n",
        "\n",
        "    # Normalize traffic flow\n",
        "    scaler = MinMaxScaler()\n",
        "    edge_data['traffic_flow_scaled'] = scaler.fit_transform(edge_data[['traffic_flow']])\n",
        "\n",
        "    # Create sequences\n",
        "    X, y = [], []\n",
        "    for i in range(len(edge_data) - sequence_length):\n",
        "        X.append(edge_data['traffic_flow_scaled'].iloc[i:i+sequence_length].values)\n",
        "        y.append(edge_data['traffic_flow_scaled'].iloc[i+sequence_length])\n",
        "\n",
        "    X = np.array(X).reshape(-1, sequence_length, 1)\n",
        "    y = np.array(y)\n",
        "\n",
        "    # Define and train LSTM model\n",
        "    model = Sequential([\n",
        "        LSTM(50, activation='relu', return_sequences=True, input_shape=(sequence_length, 1)),\n",
        "        LSTM(50, activation='relu'),\n",
        "        Dense(1)\n",
        "    ])\n",
        "    model.compile(optimizer='adam', loss='mse')\n",
        "    model.fit(X, y, epochs=epochs, batch_size=batch_size, verbose=0)\n",
        "\n",
        "    # Predict the next time step\n",
        "    last_seq = edge_data['traffic_flow_scaled'].values[-sequence_length:].reshape(1, sequence_length, 1)\n",
        "    pred_scaled = model.predict(last_seq)[0][0]\n",
        "    pred_flow = scaler.inverse_transform([[pred_scaled]])[0][0]\n",
        "\n",
        "    # Save prediction\n",
        "    predicted_traffic[edge_id] = pred_flow\n",
        "\n",
        "    # Get latest avg_speed for that edge (or use default if NaN)\n",
        "    latest_speed = edge_data['avg_speed'].values[-1]\n",
        "    edge_length = edge_data['avg_speed'].values[-1] * (edge_data['step'].iloc[-1] / 1000)  # just an example\n",
        "\n",
        "    # If speed is too low or zero, assign minimum speed to avoid division by zero\n",
        "    if latest_speed <= 0:\n",
        "        latest_speed = 2.0  # m/s\n",
        "\n",
        "    predicted_travel_time[edge_id] = edge_length / latest_speed\n",
        "\n",
        "print(\"\\n✅ Done predicting traffic flow and travel times for all edges!\")\n"
      ],
      "metadata": {
        "colab": {
          "base_uri": "https://localhost:8080/"
        },
        "id": "juXWVzoD6FPo",
        "outputId": "d47411c4-6815-43bd-a78a-cd3d2932d728"
      },
      "execution_count": null,
      "outputs": [
        {
          "output_type": "stream",
          "name": "stderr",
          "text": [
            "\rTraining LSTM per edge:   0%|          | 0/79 [00:00<?, ?it/s]/usr/local/lib/python3.11/dist-packages/keras/src/layers/rnn/rnn.py:200: UserWarning: Do not pass an `input_shape`/`input_dim` argument to a layer. When using Sequential models, prefer using an `Input(shape)` object as the first layer in the model instead.\n",
            "  super().__init__(**kwargs)\n"
          ]
        },
        {
          "output_type": "stream",
          "name": "stdout",
          "text": [
            "\u001b[1m1/1\u001b[0m \u001b[32m━━━━━━━━━━━━━━━━━━━━\u001b[0m\u001b[37m\u001b[0m \u001b[1m0s\u001b[0m 341ms/step\n"
          ]
        },
        {
          "output_type": "stream",
          "name": "stderr",
          "text": [
            "\rTraining LSTM per edge:   1%|▏         | 1/79 [00:06<07:50,  6.03s/it]/usr/local/lib/python3.11/dist-packages/keras/src/layers/rnn/rnn.py:200: UserWarning: Do not pass an `input_shape`/`input_dim` argument to a layer. When using Sequential models, prefer using an `Input(shape)` object as the first layer in the model instead.\n",
            "  super().__init__(**kwargs)\n"
          ]
        },
        {
          "output_type": "stream",
          "name": "stdout",
          "text": [
            "\u001b[1m1/1\u001b[0m \u001b[32m━━━━━━━━━━━━━━━━━━━━\u001b[0m\u001b[37m\u001b[0m \u001b[1m0s\u001b[0m 361ms/step\n"
          ]
        },
        {
          "output_type": "stream",
          "name": "stderr",
          "text": [
            "\rTraining LSTM per edge:   3%|▎         | 2/79 [00:11<07:32,  5.88s/it]/usr/local/lib/python3.11/dist-packages/keras/src/layers/rnn/rnn.py:200: UserWarning: Do not pass an `input_shape`/`input_dim` argument to a layer. When using Sequential models, prefer using an `Input(shape)` object as the first layer in the model instead.\n",
            "  super().__init__(**kwargs)\n"
          ]
        },
        {
          "output_type": "stream",
          "name": "stdout",
          "text": [
            "\u001b[1m1/1\u001b[0m \u001b[32m━━━━━━━━━━━━━━━━━━━━\u001b[0m\u001b[37m\u001b[0m \u001b[1m0s\u001b[0m 338ms/step\n"
          ]
        },
        {
          "output_type": "stream",
          "name": "stderr",
          "text": [
            "\rTraining LSTM per edge:   4%|▍         | 3/79 [00:17<07:20,  5.79s/it]/usr/local/lib/python3.11/dist-packages/keras/src/layers/rnn/rnn.py:200: UserWarning: Do not pass an `input_shape`/`input_dim` argument to a layer. When using Sequential models, prefer using an `Input(shape)` object as the first layer in the model instead.\n",
            "  super().__init__(**kwargs)\n"
          ]
        },
        {
          "output_type": "stream",
          "name": "stdout",
          "text": [
            "\u001b[1m1/1\u001b[0m \u001b[32m━━━━━━━━━━━━━━━━━━━━\u001b[0m\u001b[37m\u001b[0m \u001b[1m0s\u001b[0m 355ms/step\n"
          ]
        },
        {
          "output_type": "stream",
          "name": "stderr",
          "text": [
            "\rTraining LSTM per edge:   5%|▌         | 4/79 [00:22<06:52,  5.50s/it]/usr/local/lib/python3.11/dist-packages/keras/src/layers/rnn/rnn.py:200: UserWarning: Do not pass an `input_shape`/`input_dim` argument to a layer. When using Sequential models, prefer using an `Input(shape)` object as the first layer in the model instead.\n",
            "  super().__init__(**kwargs)\n",
            "WARNING:tensorflow:5 out of the last 5 calls to <function TensorFlowTrainer.make_predict_function.<locals>.one_step_on_data_distributed at 0x7deae48ab6a0> triggered tf.function retracing. Tracing is expensive and the excessive number of tracings could be due to (1) creating @tf.function repeatedly in a loop, (2) passing tensors with different shapes, (3) passing Python objects instead of tensors. For (1), please define your @tf.function outside of the loop. For (2), @tf.function has reduce_retracing=True option that can avoid unnecessary retracing. For (3), please refer to https://www.tensorflow.org/guide/function#controlling_retracing and https://www.tensorflow.org/api_docs/python/tf/function for  more details.\n"
          ]
        },
        {
          "output_type": "stream",
          "name": "stdout",
          "text": [
            "\u001b[1m1/1\u001b[0m \u001b[32m━━━━━━━━━━━━━━━━━━━━\u001b[0m\u001b[37m\u001b[0m \u001b[1m0s\u001b[0m 492ms/step\n"
          ]
        },
        {
          "output_type": "stream",
          "name": "stderr",
          "text": [
            "\rTraining LSTM per edge:   6%|▋         | 5/79 [00:28<06:53,  5.59s/it]/usr/local/lib/python3.11/dist-packages/keras/src/layers/rnn/rnn.py:200: UserWarning: Do not pass an `input_shape`/`input_dim` argument to a layer. When using Sequential models, prefer using an `Input(shape)` object as the first layer in the model instead.\n",
            "  super().__init__(**kwargs)\n",
            "WARNING:tensorflow:6 out of the last 6 calls to <function TensorFlowTrainer.make_predict_function.<locals>.one_step_on_data_distributed at 0x7deae48a8860> triggered tf.function retracing. Tracing is expensive and the excessive number of tracings could be due to (1) creating @tf.function repeatedly in a loop, (2) passing tensors with different shapes, (3) passing Python objects instead of tensors. For (1), please define your @tf.function outside of the loop. For (2), @tf.function has reduce_retracing=True option that can avoid unnecessary retracing. For (3), please refer to https://www.tensorflow.org/guide/function#controlling_retracing and https://www.tensorflow.org/api_docs/python/tf/function for  more details.\n"
          ]
        },
        {
          "output_type": "stream",
          "name": "stdout",
          "text": [
            "\u001b[1m1/1\u001b[0m \u001b[32m━━━━━━━━━━━━━━━━━━━━\u001b[0m\u001b[37m\u001b[0m \u001b[1m0s\u001b[0m 348ms/step\n"
          ]
        },
        {
          "output_type": "stream",
          "name": "stderr",
          "text": [
            "\rTraining LSTM per edge:   8%|▊         | 6/79 [00:34<06:52,  5.66s/it]/usr/local/lib/python3.11/dist-packages/keras/src/layers/rnn/rnn.py:200: UserWarning: Do not pass an `input_shape`/`input_dim` argument to a layer. When using Sequential models, prefer using an `Input(shape)` object as the first layer in the model instead.\n",
            "  super().__init__(**kwargs)\n"
          ]
        },
        {
          "output_type": "stream",
          "name": "stdout",
          "text": [
            "\u001b[1m1/1\u001b[0m \u001b[32m━━━━━━━━━━━━━━━━━━━━\u001b[0m\u001b[37m\u001b[0m \u001b[1m0s\u001b[0m 347ms/step\n"
          ]
        },
        {
          "output_type": "stream",
          "name": "stderr",
          "text": [
            "\rTraining LSTM per edge:   9%|▉         | 7/79 [00:39<06:36,  5.51s/it]/usr/local/lib/python3.11/dist-packages/keras/src/layers/rnn/rnn.py:200: UserWarning: Do not pass an `input_shape`/`input_dim` argument to a layer. When using Sequential models, prefer using an `Input(shape)` object as the first layer in the model instead.\n",
            "  super().__init__(**kwargs)\n"
          ]
        },
        {
          "output_type": "stream",
          "name": "stdout",
          "text": [
            "\u001b[1m1/1\u001b[0m \u001b[32m━━━━━━━━━━━━━━━━━━━━\u001b[0m\u001b[37m\u001b[0m \u001b[1m0s\u001b[0m 351ms/step\n"
          ]
        },
        {
          "output_type": "stream",
          "name": "stderr",
          "text": [
            "\rTraining LSTM per edge:  10%|█         | 8/79 [00:44<06:34,  5.55s/it]/usr/local/lib/python3.11/dist-packages/keras/src/layers/rnn/rnn.py:200: UserWarning: Do not pass an `input_shape`/`input_dim` argument to a layer. When using Sequential models, prefer using an `Input(shape)` object as the first layer in the model instead.\n",
            "  super().__init__(**kwargs)\n"
          ]
        },
        {
          "output_type": "stream",
          "name": "stdout",
          "text": [
            "\u001b[1m1/1\u001b[0m \u001b[32m━━━━━━━━━━━━━━━━━━━━\u001b[0m\u001b[37m\u001b[0m \u001b[1m0s\u001b[0m 353ms/step\n"
          ]
        },
        {
          "output_type": "stream",
          "name": "stderr",
          "text": [
            "\rTraining LSTM per edge:  11%|█▏        | 9/79 [00:49<06:13,  5.33s/it]/usr/local/lib/python3.11/dist-packages/keras/src/layers/rnn/rnn.py:200: UserWarning: Do not pass an `input_shape`/`input_dim` argument to a layer. When using Sequential models, prefer using an `Input(shape)` object as the first layer in the model instead.\n",
            "  super().__init__(**kwargs)\n"
          ]
        },
        {
          "output_type": "stream",
          "name": "stdout",
          "text": [
            "\u001b[1m1/1\u001b[0m \u001b[32m━━━━━━━━━━━━━━━━━━━━\u001b[0m\u001b[37m\u001b[0m \u001b[1m0s\u001b[0m 346ms/step\n"
          ]
        },
        {
          "output_type": "stream",
          "name": "stderr",
          "text": [
            "\rTraining LSTM per edge:  13%|█▎        | 10/79 [00:55<06:19,  5.51s/it]/usr/local/lib/python3.11/dist-packages/keras/src/layers/rnn/rnn.py:200: UserWarning: Do not pass an `input_shape`/`input_dim` argument to a layer. When using Sequential models, prefer using an `Input(shape)` object as the first layer in the model instead.\n",
            "  super().__init__(**kwargs)\n"
          ]
        },
        {
          "output_type": "stream",
          "name": "stdout",
          "text": [
            "\u001b[1m1/1\u001b[0m \u001b[32m━━━━━━━━━━━━━━━━━━━━\u001b[0m\u001b[37m\u001b[0m \u001b[1m0s\u001b[0m 369ms/step\n"
          ]
        },
        {
          "output_type": "stream",
          "name": "stderr",
          "text": [
            "\rTraining LSTM per edge:  14%|█▍        | 11/79 [01:01<06:21,  5.61s/it]/usr/local/lib/python3.11/dist-packages/keras/src/layers/rnn/rnn.py:200: UserWarning: Do not pass an `input_shape`/`input_dim` argument to a layer. When using Sequential models, prefer using an `Input(shape)` object as the first layer in the model instead.\n",
            "  super().__init__(**kwargs)\n"
          ]
        },
        {
          "output_type": "stream",
          "name": "stdout",
          "text": [
            "\u001b[1m1/1\u001b[0m \u001b[32m━━━━━━━━━━━━━━━━━━━━\u001b[0m\u001b[37m\u001b[0m \u001b[1m0s\u001b[0m 353ms/step\n"
          ]
        },
        {
          "output_type": "stream",
          "name": "stderr",
          "text": [
            "\rTraining LSTM per edge:  15%|█▌        | 12/79 [01:07<06:19,  5.67s/it]/usr/local/lib/python3.11/dist-packages/keras/src/layers/rnn/rnn.py:200: UserWarning: Do not pass an `input_shape`/`input_dim` argument to a layer. When using Sequential models, prefer using an `Input(shape)` object as the first layer in the model instead.\n",
            "  super().__init__(**kwargs)\n"
          ]
        },
        {
          "output_type": "stream",
          "name": "stdout",
          "text": [
            "\u001b[1m1/1\u001b[0m \u001b[32m━━━━━━━━━━━━━━━━━━━━\u001b[0m\u001b[37m\u001b[0m \u001b[1m0s\u001b[0m 342ms/step\n"
          ]
        },
        {
          "output_type": "stream",
          "name": "stderr",
          "text": [
            "\rTraining LSTM per edge:  16%|█▋        | 13/79 [01:12<05:59,  5.45s/it]/usr/local/lib/python3.11/dist-packages/keras/src/layers/rnn/rnn.py:200: UserWarning: Do not pass an `input_shape`/`input_dim` argument to a layer. When using Sequential models, prefer using an `Input(shape)` object as the first layer in the model instead.\n",
            "  super().__init__(**kwargs)\n"
          ]
        },
        {
          "output_type": "stream",
          "name": "stdout",
          "text": [
            "\u001b[1m1/1\u001b[0m \u001b[32m━━━━━━━━━━━━━━━━━━━━\u001b[0m\u001b[37m\u001b[0m \u001b[1m1s\u001b[0m 505ms/step\n"
          ]
        },
        {
          "output_type": "stream",
          "name": "stderr",
          "text": [
            "\rTraining LSTM per edge:  18%|█▊        | 14/79 [01:17<05:50,  5.39s/it]/usr/local/lib/python3.11/dist-packages/keras/src/layers/rnn/rnn.py:200: UserWarning: Do not pass an `input_shape`/`input_dim` argument to a layer. When using Sequential models, prefer using an `Input(shape)` object as the first layer in the model instead.\n",
            "  super().__init__(**kwargs)\n"
          ]
        },
        {
          "output_type": "stream",
          "name": "stdout",
          "text": [
            "\u001b[1m1/1\u001b[0m \u001b[32m━━━━━━━━━━━━━━━━━━━━\u001b[0m\u001b[37m\u001b[0m \u001b[1m0s\u001b[0m 345ms/step\n"
          ]
        },
        {
          "output_type": "stream",
          "name": "stderr",
          "text": [
            "\rTraining LSTM per edge:  19%|█▉        | 15/79 [01:22<05:45,  5.40s/it]/usr/local/lib/python3.11/dist-packages/keras/src/layers/rnn/rnn.py:200: UserWarning: Do not pass an `input_shape`/`input_dim` argument to a layer. When using Sequential models, prefer using an `Input(shape)` object as the first layer in the model instead.\n",
            "  super().__init__(**kwargs)\n"
          ]
        },
        {
          "output_type": "stream",
          "name": "stdout",
          "text": [
            "\u001b[1m1/1\u001b[0m \u001b[32m━━━━━━━━━━━━━━━━━━━━\u001b[0m\u001b[37m\u001b[0m \u001b[1m0s\u001b[0m 360ms/step\n"
          ]
        },
        {
          "output_type": "stream",
          "name": "stderr",
          "text": [
            "\rTraining LSTM per edge:  20%|██        | 16/79 [01:28<05:39,  5.39s/it]/usr/local/lib/python3.11/dist-packages/keras/src/layers/rnn/rnn.py:200: UserWarning: Do not pass an `input_shape`/`input_dim` argument to a layer. When using Sequential models, prefer using an `Input(shape)` object as the first layer in the model instead.\n",
            "  super().__init__(**kwargs)\n"
          ]
        },
        {
          "output_type": "stream",
          "name": "stdout",
          "text": [
            "\u001b[1m1/1\u001b[0m \u001b[32m━━━━━━━━━━━━━━━━━━━━\u001b[0m\u001b[37m\u001b[0m \u001b[1m0s\u001b[0m 351ms/step\n"
          ]
        },
        {
          "output_type": "stream",
          "name": "stderr",
          "text": [
            "\rTraining LSTM per edge:  22%|██▏       | 17/79 [01:34<05:57,  5.77s/it]/usr/local/lib/python3.11/dist-packages/keras/src/layers/rnn/rnn.py:200: UserWarning: Do not pass an `input_shape`/`input_dim` argument to a layer. When using Sequential models, prefer using an `Input(shape)` object as the first layer in the model instead.\n",
            "  super().__init__(**kwargs)\n"
          ]
        },
        {
          "output_type": "stream",
          "name": "stdout",
          "text": [
            "\u001b[1m1/1\u001b[0m \u001b[32m━━━━━━━━━━━━━━━━━━━━\u001b[0m\u001b[37m\u001b[0m \u001b[1m0s\u001b[0m 369ms/step\n"
          ]
        },
        {
          "output_type": "stream",
          "name": "stderr",
          "text": [
            "\rTraining LSTM per edge:  23%|██▎       | 18/79 [01:40<05:40,  5.59s/it]/usr/local/lib/python3.11/dist-packages/keras/src/layers/rnn/rnn.py:200: UserWarning: Do not pass an `input_shape`/`input_dim` argument to a layer. When using Sequential models, prefer using an `Input(shape)` object as the first layer in the model instead.\n",
            "  super().__init__(**kwargs)\n"
          ]
        },
        {
          "output_type": "stream",
          "name": "stdout",
          "text": [
            "\u001b[1m1/1\u001b[0m \u001b[32m━━━━━━━━━━━━━━━━━━━━\u001b[0m\u001b[37m\u001b[0m \u001b[1m0s\u001b[0m 360ms/step\n"
          ]
        },
        {
          "output_type": "stream",
          "name": "stderr",
          "text": [
            "\rTraining LSTM per edge:  24%|██▍       | 19/79 [01:46<05:49,  5.82s/it]/usr/local/lib/python3.11/dist-packages/keras/src/layers/rnn/rnn.py:200: UserWarning: Do not pass an `input_shape`/`input_dim` argument to a layer. When using Sequential models, prefer using an `Input(shape)` object as the first layer in the model instead.\n",
            "  super().__init__(**kwargs)\n"
          ]
        },
        {
          "output_type": "stream",
          "name": "stdout",
          "text": [
            "\u001b[1m1/1\u001b[0m \u001b[32m━━━━━━━━━━━━━━━━━━━━\u001b[0m\u001b[37m\u001b[0m \u001b[1m0s\u001b[0m 365ms/step\n"
          ]
        },
        {
          "output_type": "stream",
          "name": "stderr",
          "text": [
            "\rTraining LSTM per edge:  25%|██▌       | 20/79 [01:51<05:35,  5.69s/it]/usr/local/lib/python3.11/dist-packages/keras/src/layers/rnn/rnn.py:200: UserWarning: Do not pass an `input_shape`/`input_dim` argument to a layer. When using Sequential models, prefer using an `Input(shape)` object as the first layer in the model instead.\n",
            "  super().__init__(**kwargs)\n"
          ]
        },
        {
          "output_type": "stream",
          "name": "stdout",
          "text": [
            "\u001b[1m1/1\u001b[0m \u001b[32m━━━━━━━━━━━━━━━━━━━━\u001b[0m\u001b[37m\u001b[0m \u001b[1m0s\u001b[0m 345ms/step\n"
          ]
        },
        {
          "output_type": "stream",
          "name": "stderr",
          "text": [
            "\rTraining LSTM per edge:  27%|██▋       | 21/79 [01:57<05:34,  5.77s/it]/usr/local/lib/python3.11/dist-packages/keras/src/layers/rnn/rnn.py:200: UserWarning: Do not pass an `input_shape`/`input_dim` argument to a layer. When using Sequential models, prefer using an `Input(shape)` object as the first layer in the model instead.\n",
            "  super().__init__(**kwargs)\n"
          ]
        },
        {
          "output_type": "stream",
          "name": "stdout",
          "text": [
            "\u001b[1m1/1\u001b[0m \u001b[32m━━━━━━━━━━━━━━━━━━━━\u001b[0m\u001b[37m\u001b[0m \u001b[1m0s\u001b[0m 353ms/step\n"
          ]
        },
        {
          "output_type": "stream",
          "name": "stderr",
          "text": [
            "\rTraining LSTM per edge:  28%|██▊       | 22/79 [02:02<05:15,  5.53s/it]/usr/local/lib/python3.11/dist-packages/keras/src/layers/rnn/rnn.py:200: UserWarning: Do not pass an `input_shape`/`input_dim` argument to a layer. When using Sequential models, prefer using an `Input(shape)` object as the first layer in the model instead.\n",
            "  super().__init__(**kwargs)\n"
          ]
        },
        {
          "output_type": "stream",
          "name": "stdout",
          "text": [
            "\u001b[1m1/1\u001b[0m \u001b[32m━━━━━━━━━━━━━━━━━━━━\u001b[0m\u001b[37m\u001b[0m \u001b[1m1s\u001b[0m 592ms/step\n"
          ]
        },
        {
          "output_type": "stream",
          "name": "stderr",
          "text": [
            "\rTraining LSTM per edge:  29%|██▉       | 23/79 [02:08<05:12,  5.59s/it]/usr/local/lib/python3.11/dist-packages/keras/src/layers/rnn/rnn.py:200: UserWarning: Do not pass an `input_shape`/`input_dim` argument to a layer. When using Sequential models, prefer using an `Input(shape)` object as the first layer in the model instead.\n",
            "  super().__init__(**kwargs)\n"
          ]
        },
        {
          "output_type": "stream",
          "name": "stdout",
          "text": [
            "\u001b[1m1/1\u001b[0m \u001b[32m━━━━━━━━━━━━━━━━━━━━\u001b[0m\u001b[37m\u001b[0m \u001b[1m0s\u001b[0m 355ms/step\n"
          ]
        },
        {
          "output_type": "stream",
          "name": "stderr",
          "text": [
            "\rTraining LSTM per edge:  30%|███       | 24/79 [02:15<05:30,  6.00s/it]/usr/local/lib/python3.11/dist-packages/keras/src/layers/rnn/rnn.py:200: UserWarning: Do not pass an `input_shape`/`input_dim` argument to a layer. When using Sequential models, prefer using an `Input(shape)` object as the first layer in the model instead.\n",
            "  super().__init__(**kwargs)\n"
          ]
        },
        {
          "output_type": "stream",
          "name": "stdout",
          "text": [
            "\u001b[1m1/1\u001b[0m \u001b[32m━━━━━━━━━━━━━━━━━━━━\u001b[0m\u001b[37m\u001b[0m \u001b[1m1s\u001b[0m 536ms/step\n"
          ]
        },
        {
          "output_type": "stream",
          "name": "stderr",
          "text": [
            "\rTraining LSTM per edge:  32%|███▏      | 25/79 [02:21<05:21,  5.96s/it]/usr/local/lib/python3.11/dist-packages/keras/src/layers/rnn/rnn.py:200: UserWarning: Do not pass an `input_shape`/`input_dim` argument to a layer. When using Sequential models, prefer using an `Input(shape)` object as the first layer in the model instead.\n",
            "  super().__init__(**kwargs)\n"
          ]
        },
        {
          "output_type": "stream",
          "name": "stdout",
          "text": [
            "\u001b[1m1/1\u001b[0m \u001b[32m━━━━━━━━━━━━━━━━━━━━\u001b[0m\u001b[37m\u001b[0m \u001b[1m0s\u001b[0m 380ms/step\n"
          ]
        },
        {
          "output_type": "stream",
          "name": "stderr",
          "text": [
            "\rTraining LSTM per edge:  33%|███▎      | 26/79 [02:27<05:14,  5.94s/it]/usr/local/lib/python3.11/dist-packages/keras/src/layers/rnn/rnn.py:200: UserWarning: Do not pass an `input_shape`/`input_dim` argument to a layer. When using Sequential models, prefer using an `Input(shape)` object as the first layer in the model instead.\n",
            "  super().__init__(**kwargs)\n"
          ]
        },
        {
          "output_type": "stream",
          "name": "stdout",
          "text": [
            "\u001b[1m1/1\u001b[0m \u001b[32m━━━━━━━━━━━━━━━━━━━━\u001b[0m\u001b[37m\u001b[0m \u001b[1m0s\u001b[0m 493ms/step\n"
          ]
        },
        {
          "output_type": "stream",
          "name": "stderr",
          "text": [
            "\rTraining LSTM per edge:  34%|███▍      | 27/79 [02:32<04:56,  5.71s/it]/usr/local/lib/python3.11/dist-packages/keras/src/layers/rnn/rnn.py:200: UserWarning: Do not pass an `input_shape`/`input_dim` argument to a layer. When using Sequential models, prefer using an `Input(shape)` object as the first layer in the model instead.\n",
            "  super().__init__(**kwargs)\n"
          ]
        },
        {
          "output_type": "stream",
          "name": "stdout",
          "text": [
            "\u001b[1m1/1\u001b[0m \u001b[32m━━━━━━━━━━━━━━━━━━━━\u001b[0m\u001b[37m\u001b[0m \u001b[1m0s\u001b[0m 390ms/step\n"
          ]
        },
        {
          "output_type": "stream",
          "name": "stderr",
          "text": [
            "\rTraining LSTM per edge:  35%|███▌      | 28/79 [02:37<04:43,  5.57s/it]/usr/local/lib/python3.11/dist-packages/keras/src/layers/rnn/rnn.py:200: UserWarning: Do not pass an `input_shape`/`input_dim` argument to a layer. When using Sequential models, prefer using an `Input(shape)` object as the first layer in the model instead.\n",
            "  super().__init__(**kwargs)\n"
          ]
        },
        {
          "output_type": "stream",
          "name": "stdout",
          "text": [
            "\u001b[1m1/1\u001b[0m \u001b[32m━━━━━━━━━━━━━━━━━━━━\u001b[0m\u001b[37m\u001b[0m \u001b[1m0s\u001b[0m 350ms/step\n"
          ]
        },
        {
          "output_type": "stream",
          "name": "stderr",
          "text": [
            "\rTraining LSTM per edge:  37%|███▋      | 29/79 [02:43<04:35,  5.51s/it]/usr/local/lib/python3.11/dist-packages/keras/src/layers/rnn/rnn.py:200: UserWarning: Do not pass an `input_shape`/`input_dim` argument to a layer. When using Sequential models, prefer using an `Input(shape)` object as the first layer in the model instead.\n",
            "  super().__init__(**kwargs)\n"
          ]
        },
        {
          "output_type": "stream",
          "name": "stdout",
          "text": [
            "\u001b[1m1/1\u001b[0m \u001b[32m━━━━━━━━━━━━━━━━━━━━\u001b[0m\u001b[37m\u001b[0m \u001b[1m0s\u001b[0m 341ms/step\n"
          ]
        },
        {
          "output_type": "stream",
          "name": "stderr",
          "text": [
            "\rTraining LSTM per edge:  38%|███▊      | 30/79 [02:48<04:34,  5.60s/it]/usr/local/lib/python3.11/dist-packages/keras/src/layers/rnn/rnn.py:200: UserWarning: Do not pass an `input_shape`/`input_dim` argument to a layer. When using Sequential models, prefer using an `Input(shape)` object as the first layer in the model instead.\n",
            "  super().__init__(**kwargs)\n"
          ]
        },
        {
          "output_type": "stream",
          "name": "stdout",
          "text": [
            "\u001b[1m1/1\u001b[0m \u001b[32m━━━━━━━━━━━━━━━━━━━━\u001b[0m\u001b[37m\u001b[0m \u001b[1m0s\u001b[0m 343ms/step\n"
          ]
        },
        {
          "output_type": "stream",
          "name": "stderr",
          "text": [
            "\rTraining LSTM per edge:  39%|███▉      | 31/79 [02:53<04:21,  5.45s/it]/usr/local/lib/python3.11/dist-packages/keras/src/layers/rnn/rnn.py:200: UserWarning: Do not pass an `input_shape`/`input_dim` argument to a layer. When using Sequential models, prefer using an `Input(shape)` object as the first layer in the model instead.\n",
            "  super().__init__(**kwargs)\n"
          ]
        },
        {
          "output_type": "stream",
          "name": "stdout",
          "text": [
            "\u001b[1m1/1\u001b[0m \u001b[32m━━━━━━━━━━━━━━━━━━━━\u001b[0m\u001b[37m\u001b[0m \u001b[1m0s\u001b[0m 336ms/step\n"
          ]
        },
        {
          "output_type": "stream",
          "name": "stderr",
          "text": [
            "\rTraining LSTM per edge:  41%|████      | 32/79 [03:00<04:24,  5.64s/it]/usr/local/lib/python3.11/dist-packages/keras/src/layers/rnn/rnn.py:200: UserWarning: Do not pass an `input_shape`/`input_dim` argument to a layer. When using Sequential models, prefer using an `Input(shape)` object as the first layer in the model instead.\n",
            "  super().__init__(**kwargs)\n"
          ]
        },
        {
          "output_type": "stream",
          "name": "stdout",
          "text": [
            "\u001b[1m1/1\u001b[0m \u001b[32m━━━━━━━━━━━━━━━━━━━━\u001b[0m\u001b[37m\u001b[0m \u001b[1m0s\u001b[0m 364ms/step\n"
          ]
        },
        {
          "output_type": "stream",
          "name": "stderr",
          "text": [
            "\rTraining LSTM per edge:  42%|████▏     | 33/79 [03:05<04:20,  5.67s/it]/usr/local/lib/python3.11/dist-packages/keras/src/layers/rnn/rnn.py:200: UserWarning: Do not pass an `input_shape`/`input_dim` argument to a layer. When using Sequential models, prefer using an `Input(shape)` object as the first layer in the model instead.\n",
            "  super().__init__(**kwargs)\n"
          ]
        },
        {
          "output_type": "stream",
          "name": "stdout",
          "text": [
            "\u001b[1m1/1\u001b[0m \u001b[32m━━━━━━━━━━━━━━━━━━━━\u001b[0m\u001b[37m\u001b[0m \u001b[1m0s\u001b[0m 351ms/step\n"
          ]
        },
        {
          "output_type": "stream",
          "name": "stderr",
          "text": [
            "\rTraining LSTM per edge:  43%|████▎     | 34/79 [03:12<04:29,  5.98s/it]/usr/local/lib/python3.11/dist-packages/keras/src/layers/rnn/rnn.py:200: UserWarning: Do not pass an `input_shape`/`input_dim` argument to a layer. When using Sequential models, prefer using an `Input(shape)` object as the first layer in the model instead.\n",
            "  super().__init__(**kwargs)\n"
          ]
        },
        {
          "output_type": "stream",
          "name": "stdout",
          "text": [
            "\u001b[1m1/1\u001b[0m \u001b[32m━━━━━━━━━━━━━━━━━━━━\u001b[0m\u001b[37m\u001b[0m \u001b[1m0s\u001b[0m 386ms/step\n"
          ]
        },
        {
          "output_type": "stream",
          "name": "stderr",
          "text": [
            "\rTraining LSTM per edge:  44%|████▍     | 35/79 [03:18<04:17,  5.86s/it]/usr/local/lib/python3.11/dist-packages/keras/src/layers/rnn/rnn.py:200: UserWarning: Do not pass an `input_shape`/`input_dim` argument to a layer. When using Sequential models, prefer using an `Input(shape)` object as the first layer in the model instead.\n",
            "  super().__init__(**kwargs)\n"
          ]
        },
        {
          "output_type": "stream",
          "name": "stdout",
          "text": [
            "\u001b[1m1/1\u001b[0m \u001b[32m━━━━━━━━━━━━━━━━━━━━\u001b[0m\u001b[37m\u001b[0m \u001b[1m0s\u001b[0m 485ms/step\n"
          ]
        },
        {
          "output_type": "stream",
          "name": "stderr",
          "text": [
            "\rTraining LSTM per edge:  46%|████▌     | 36/79 [03:24<04:13,  5.90s/it]/usr/local/lib/python3.11/dist-packages/keras/src/layers/rnn/rnn.py:200: UserWarning: Do not pass an `input_shape`/`input_dim` argument to a layer. When using Sequential models, prefer using an `Input(shape)` object as the first layer in the model instead.\n",
            "  super().__init__(**kwargs)\n"
          ]
        },
        {
          "output_type": "stream",
          "name": "stdout",
          "text": [
            "\u001b[1m1/1\u001b[0m \u001b[32m━━━━━━━━━━━━━━━━━━━━\u001b[0m\u001b[37m\u001b[0m \u001b[1m0s\u001b[0m 369ms/step\n"
          ]
        },
        {
          "output_type": "stream",
          "name": "stderr",
          "text": [
            "\rTraining LSTM per edge:  47%|████▋     | 37/79 [03:29<03:59,  5.70s/it]/usr/local/lib/python3.11/dist-packages/keras/src/layers/rnn/rnn.py:200: UserWarning: Do not pass an `input_shape`/`input_dim` argument to a layer. When using Sequential models, prefer using an `Input(shape)` object as the first layer in the model instead.\n",
            "  super().__init__(**kwargs)\n"
          ]
        },
        {
          "output_type": "stream",
          "name": "stdout",
          "text": [
            "\u001b[1m1/1\u001b[0m \u001b[32m━━━━━━━━━━━━━━━━━━━━\u001b[0m\u001b[37m\u001b[0m \u001b[1m1s\u001b[0m 515ms/step\n"
          ]
        },
        {
          "output_type": "stream",
          "name": "stderr",
          "text": [
            "\rTraining LSTM per edge:  48%|████▊     | 38/79 [03:34<03:48,  5.56s/it]/usr/local/lib/python3.11/dist-packages/keras/src/layers/rnn/rnn.py:200: UserWarning: Do not pass an `input_shape`/`input_dim` argument to a layer. When using Sequential models, prefer using an `Input(shape)` object as the first layer in the model instead.\n",
            "  super().__init__(**kwargs)\n"
          ]
        },
        {
          "output_type": "stream",
          "name": "stdout",
          "text": [
            "\u001b[1m1/1\u001b[0m \u001b[32m━━━━━━━━━━━━━━━━━━━━\u001b[0m\u001b[37m\u001b[0m \u001b[1m0s\u001b[0m 347ms/step\n"
          ]
        },
        {
          "output_type": "stream",
          "name": "stderr",
          "text": [
            "\rTraining LSTM per edge:  49%|████▉     | 39/79 [03:39<03:41,  5.53s/it]/usr/local/lib/python3.11/dist-packages/keras/src/layers/rnn/rnn.py:200: UserWarning: Do not pass an `input_shape`/`input_dim` argument to a layer. When using Sequential models, prefer using an `Input(shape)` object as the first layer in the model instead.\n",
            "  super().__init__(**kwargs)\n"
          ]
        },
        {
          "output_type": "stream",
          "name": "stdout",
          "text": [
            "\u001b[1m1/1\u001b[0m \u001b[32m━━━━━━━━━━━━━━━━━━━━\u001b[0m\u001b[37m\u001b[0m \u001b[1m0s\u001b[0m 352ms/step\n"
          ]
        },
        {
          "output_type": "stream",
          "name": "stderr",
          "text": [
            "\rTraining LSTM per edge:  51%|█████     | 40/79 [03:44<03:29,  5.36s/it]/usr/local/lib/python3.11/dist-packages/keras/src/layers/rnn/rnn.py:200: UserWarning: Do not pass an `input_shape`/`input_dim` argument to a layer. When using Sequential models, prefer using an `Input(shape)` object as the first layer in the model instead.\n",
            "  super().__init__(**kwargs)\n"
          ]
        },
        {
          "output_type": "stream",
          "name": "stdout",
          "text": [
            "\u001b[1m1/1\u001b[0m \u001b[32m━━━━━━━━━━━━━━━━━━━━\u001b[0m\u001b[37m\u001b[0m \u001b[1m0s\u001b[0m 342ms/step\n"
          ]
        },
        {
          "output_type": "stream",
          "name": "stderr",
          "text": [
            "\rTraining LSTM per edge:  52%|█████▏    | 41/79 [03:50<03:30,  5.53s/it]/usr/local/lib/python3.11/dist-packages/keras/src/layers/rnn/rnn.py:200: UserWarning: Do not pass an `input_shape`/`input_dim` argument to a layer. When using Sequential models, prefer using an `Input(shape)` object as the first layer in the model instead.\n",
            "  super().__init__(**kwargs)\n"
          ]
        },
        {
          "output_type": "stream",
          "name": "stdout",
          "text": [
            "\u001b[1m1/1\u001b[0m \u001b[32m━━━━━━━━━━━━━━━━━━━━\u001b[0m\u001b[37m\u001b[0m \u001b[1m0s\u001b[0m 358ms/step\n"
          ]
        },
        {
          "output_type": "stream",
          "name": "stderr",
          "text": [
            "\rTraining LSTM per edge:  53%|█████▎    | 42/79 [03:55<03:18,  5.36s/it]/usr/local/lib/python3.11/dist-packages/keras/src/layers/rnn/rnn.py:200: UserWarning: Do not pass an `input_shape`/`input_dim` argument to a layer. When using Sequential models, prefer using an `Input(shape)` object as the first layer in the model instead.\n",
            "  super().__init__(**kwargs)\n"
          ]
        },
        {
          "output_type": "stream",
          "name": "stdout",
          "text": [
            "\u001b[1m1/1\u001b[0m \u001b[32m━━━━━━━━━━━━━━━━━━━━\u001b[0m\u001b[37m\u001b[0m \u001b[1m0s\u001b[0m 363ms/step\n"
          ]
        },
        {
          "output_type": "stream",
          "name": "stderr",
          "text": [
            "\rTraining LSTM per edge:  54%|█████▍    | 43/79 [04:03<03:38,  6.07s/it]/usr/local/lib/python3.11/dist-packages/keras/src/layers/rnn/rnn.py:200: UserWarning: Do not pass an `input_shape`/`input_dim` argument to a layer. When using Sequential models, prefer using an `Input(shape)` object as the first layer in the model instead.\n",
            "  super().__init__(**kwargs)\n"
          ]
        },
        {
          "output_type": "stream",
          "name": "stdout",
          "text": [
            "\u001b[1m1/1\u001b[0m \u001b[32m━━━━━━━━━━━━━━━━━━━━\u001b[0m\u001b[37m\u001b[0m \u001b[1m0s\u001b[0m 447ms/step\n"
          ]
        },
        {
          "output_type": "stream",
          "name": "stderr",
          "text": [
            "\rTraining LSTM per edge:  56%|█████▌    | 44/79 [04:09<03:29,  6.00s/it]/usr/local/lib/python3.11/dist-packages/keras/src/layers/rnn/rnn.py:200: UserWarning: Do not pass an `input_shape`/`input_dim` argument to a layer. When using Sequential models, prefer using an `Input(shape)` object as the first layer in the model instead.\n",
            "  super().__init__(**kwargs)\n"
          ]
        },
        {
          "output_type": "stream",
          "name": "stdout",
          "text": [
            "\u001b[1m1/1\u001b[0m \u001b[32m━━━━━━━━━━━━━━━━━━━━\u001b[0m\u001b[37m\u001b[0m \u001b[1m0s\u001b[0m 354ms/step\n"
          ]
        },
        {
          "output_type": "stream",
          "name": "stderr",
          "text": [
            "\rTraining LSTM per edge:  57%|█████▋    | 45/79 [04:15<03:27,  6.10s/it]/usr/local/lib/python3.11/dist-packages/keras/src/layers/rnn/rnn.py:200: UserWarning: Do not pass an `input_shape`/`input_dim` argument to a layer. When using Sequential models, prefer using an `Input(shape)` object as the first layer in the model instead.\n",
            "  super().__init__(**kwargs)\n"
          ]
        },
        {
          "output_type": "stream",
          "name": "stdout",
          "text": [
            "\u001b[1m1/1\u001b[0m \u001b[32m━━━━━━━━━━━━━━━━━━━━\u001b[0m\u001b[37m\u001b[0m \u001b[1m0s\u001b[0m 354ms/step\n"
          ]
        },
        {
          "output_type": "stream",
          "name": "stderr",
          "text": [
            "\rTraining LSTM per edge:  58%|█████▊    | 46/79 [04:20<03:11,  5.79s/it]/usr/local/lib/python3.11/dist-packages/keras/src/layers/rnn/rnn.py:200: UserWarning: Do not pass an `input_shape`/`input_dim` argument to a layer. When using Sequential models, prefer using an `Input(shape)` object as the first layer in the model instead.\n",
            "  super().__init__(**kwargs)\n"
          ]
        },
        {
          "output_type": "stream",
          "name": "stdout",
          "text": [
            "\u001b[1m1/1\u001b[0m \u001b[32m━━━━━━━━━━━━━━━━━━━━\u001b[0m\u001b[37m\u001b[0m \u001b[1m0s\u001b[0m 352ms/step\n"
          ]
        },
        {
          "output_type": "stream",
          "name": "stderr",
          "text": [
            "\rTraining LSTM per edge:  59%|█████▉    | 47/79 [04:27<03:10,  5.95s/it]/usr/local/lib/python3.11/dist-packages/keras/src/layers/rnn/rnn.py:200: UserWarning: Do not pass an `input_shape`/`input_dim` argument to a layer. When using Sequential models, prefer using an `Input(shape)` object as the first layer in the model instead.\n",
            "  super().__init__(**kwargs)\n"
          ]
        },
        {
          "output_type": "stream",
          "name": "stdout",
          "text": [
            "\u001b[1m1/1\u001b[0m \u001b[32m━━━━━━━━━━━━━━━━━━━━\u001b[0m\u001b[37m\u001b[0m \u001b[1m0s\u001b[0m 358ms/step\n"
          ]
        },
        {
          "output_type": "stream",
          "name": "stderr",
          "text": [
            "\rTraining LSTM per edge:  61%|██████    | 48/79 [04:32<02:56,  5.70s/it]/usr/local/lib/python3.11/dist-packages/keras/src/layers/rnn/rnn.py:200: UserWarning: Do not pass an `input_shape`/`input_dim` argument to a layer. When using Sequential models, prefer using an `Input(shape)` object as the first layer in the model instead.\n",
            "  super().__init__(**kwargs)\n"
          ]
        },
        {
          "output_type": "stream",
          "name": "stdout",
          "text": [
            "\u001b[1m1/1\u001b[0m \u001b[32m━━━━━━━━━━━━━━━━━━━━\u001b[0m\u001b[37m\u001b[0m \u001b[1m1s\u001b[0m 512ms/step\n"
          ]
        },
        {
          "output_type": "stream",
          "name": "stderr",
          "text": [
            "\rTraining LSTM per edge:  62%|██████▏   | 49/79 [04:37<02:49,  5.66s/it]/usr/local/lib/python3.11/dist-packages/keras/src/layers/rnn/rnn.py:200: UserWarning: Do not pass an `input_shape`/`input_dim` argument to a layer. When using Sequential models, prefer using an `Input(shape)` object as the first layer in the model instead.\n",
            "  super().__init__(**kwargs)\n"
          ]
        },
        {
          "output_type": "stream",
          "name": "stdout",
          "text": [
            "\u001b[1m1/1\u001b[0m \u001b[32m━━━━━━━━━━━━━━━━━━━━\u001b[0m\u001b[37m\u001b[0m \u001b[1m0s\u001b[0m 332ms/step\n"
          ]
        },
        {
          "output_type": "stream",
          "name": "stderr",
          "text": [
            "\rTraining LSTM per edge:  63%|██████▎   | 50/79 [04:43<02:43,  5.65s/it]/usr/local/lib/python3.11/dist-packages/keras/src/layers/rnn/rnn.py:200: UserWarning: Do not pass an `input_shape`/`input_dim` argument to a layer. When using Sequential models, prefer using an `Input(shape)` object as the first layer in the model instead.\n",
            "  super().__init__(**kwargs)\n"
          ]
        },
        {
          "output_type": "stream",
          "name": "stdout",
          "text": [
            "\u001b[1m1/1\u001b[0m \u001b[32m━━━━━━━━━━━━━━━━━━━━\u001b[0m\u001b[37m\u001b[0m \u001b[1m0s\u001b[0m 354ms/step\n"
          ]
        },
        {
          "output_type": "stream",
          "name": "stderr",
          "text": [
            "\rTraining LSTM per edge:  65%|██████▍   | 51/79 [04:48<02:33,  5.47s/it]/usr/local/lib/python3.11/dist-packages/keras/src/layers/rnn/rnn.py:200: UserWarning: Do not pass an `input_shape`/`input_dim` argument to a layer. When using Sequential models, prefer using an `Input(shape)` object as the first layer in the model instead.\n",
            "  super().__init__(**kwargs)\n"
          ]
        },
        {
          "output_type": "stream",
          "name": "stdout",
          "text": [
            "\u001b[1m1/1\u001b[0m \u001b[32m━━━━━━━━━━━━━━━━━━━━\u001b[0m\u001b[37m\u001b[0m \u001b[1m0s\u001b[0m 335ms/step\n"
          ]
        },
        {
          "output_type": "stream",
          "name": "stderr",
          "text": [
            "\rTraining LSTM per edge:  66%|██████▌   | 52/79 [04:54<02:28,  5.50s/it]/usr/local/lib/python3.11/dist-packages/keras/src/layers/rnn/rnn.py:200: UserWarning: Do not pass an `input_shape`/`input_dim` argument to a layer. When using Sequential models, prefer using an `Input(shape)` object as the first layer in the model instead.\n",
            "  super().__init__(**kwargs)\n"
          ]
        },
        {
          "output_type": "stream",
          "name": "stdout",
          "text": [
            "\u001b[1m1/1\u001b[0m \u001b[32m━━━━━━━━━━━━━━━━━━━━\u001b[0m\u001b[37m\u001b[0m \u001b[1m0s\u001b[0m 339ms/step\n"
          ]
        },
        {
          "output_type": "stream",
          "name": "stderr",
          "text": [
            "\rTraining LSTM per edge:  67%|██████▋   | 53/79 [04:59<02:19,  5.36s/it]/usr/local/lib/python3.11/dist-packages/keras/src/layers/rnn/rnn.py:200: UserWarning: Do not pass an `input_shape`/`input_dim` argument to a layer. When using Sequential models, prefer using an `Input(shape)` object as the first layer in the model instead.\n",
            "  super().__init__(**kwargs)\n"
          ]
        },
        {
          "output_type": "stream",
          "name": "stdout",
          "text": [
            "\u001b[1m1/1\u001b[0m \u001b[32m━━━━━━━━━━━━━━━━━━━━\u001b[0m\u001b[37m\u001b[0m \u001b[1m1s\u001b[0m 575ms/step\n"
          ]
        },
        {
          "output_type": "stream",
          "name": "stderr",
          "text": [
            "\rTraining LSTM per edge:  68%|██████▊   | 54/79 [05:10<02:58,  7.14s/it]/usr/local/lib/python3.11/dist-packages/keras/src/layers/rnn/rnn.py:200: UserWarning: Do not pass an `input_shape`/`input_dim` argument to a layer. When using Sequential models, prefer using an `Input(shape)` object as the first layer in the model instead.\n",
            "  super().__init__(**kwargs)\n"
          ]
        },
        {
          "output_type": "stream",
          "name": "stdout",
          "text": [
            "\u001b[1m1/1\u001b[0m \u001b[32m━━━━━━━━━━━━━━━━━━━━\u001b[0m\u001b[37m\u001b[0m \u001b[1m0s\u001b[0m 356ms/step\n"
          ]
        },
        {
          "output_type": "stream",
          "name": "stderr",
          "text": [
            "\rTraining LSTM per edge:  70%|██████▉   | 55/79 [05:15<02:39,  6.63s/it]/usr/local/lib/python3.11/dist-packages/keras/src/layers/rnn/rnn.py:200: UserWarning: Do not pass an `input_shape`/`input_dim` argument to a layer. When using Sequential models, prefer using an `Input(shape)` object as the first layer in the model instead.\n",
            "  super().__init__(**kwargs)\n"
          ]
        },
        {
          "output_type": "stream",
          "name": "stdout",
          "text": [
            "\u001b[1m1/1\u001b[0m \u001b[32m━━━━━━━━━━━━━━━━━━━━\u001b[0m\u001b[37m\u001b[0m \u001b[1m0s\u001b[0m 369ms/step\n"
          ]
        },
        {
          "output_type": "stream",
          "name": "stderr",
          "text": [
            "\rTraining LSTM per edge:  71%|███████   | 56/79 [05:23<02:41,  7.03s/it]/usr/local/lib/python3.11/dist-packages/keras/src/layers/rnn/rnn.py:200: UserWarning: Do not pass an `input_shape`/`input_dim` argument to a layer. When using Sequential models, prefer using an `Input(shape)` object as the first layer in the model instead.\n",
            "  super().__init__(**kwargs)\n"
          ]
        },
        {
          "output_type": "stream",
          "name": "stdout",
          "text": [
            "\u001b[1m1/1\u001b[0m \u001b[32m━━━━━━━━━━━━━━━━━━━━\u001b[0m\u001b[37m\u001b[0m \u001b[1m0s\u001b[0m 354ms/step\n"
          ]
        },
        {
          "output_type": "stream",
          "name": "stderr",
          "text": [
            "\rTraining LSTM per edge:  72%|███████▏  | 57/79 [05:29<02:23,  6.52s/it]/usr/local/lib/python3.11/dist-packages/keras/src/layers/rnn/rnn.py:200: UserWarning: Do not pass an `input_shape`/`input_dim` argument to a layer. When using Sequential models, prefer using an `Input(shape)` object as the first layer in the model instead.\n",
            "  super().__init__(**kwargs)\n"
          ]
        },
        {
          "output_type": "stream",
          "name": "stdout",
          "text": [
            "\u001b[1m1/1\u001b[0m \u001b[32m━━━━━━━━━━━━━━━━━━━━\u001b[0m\u001b[37m\u001b[0m \u001b[1m0s\u001b[0m 368ms/step\n"
          ]
        },
        {
          "output_type": "stream",
          "name": "stderr",
          "text": [
            "\rTraining LSTM per edge:  73%|███████▎  | 58/79 [05:34<02:10,  6.21s/it]/usr/local/lib/python3.11/dist-packages/keras/src/layers/rnn/rnn.py:200: UserWarning: Do not pass an `input_shape`/`input_dim` argument to a layer. When using Sequential models, prefer using an `Input(shape)` object as the first layer in the model instead.\n",
            "  super().__init__(**kwargs)\n"
          ]
        },
        {
          "output_type": "stream",
          "name": "stdout",
          "text": [
            "\u001b[1m1/1\u001b[0m \u001b[32m━━━━━━━━━━━━━━━━━━━━\u001b[0m\u001b[37m\u001b[0m \u001b[1m0s\u001b[0m 351ms/step\n"
          ]
        },
        {
          "output_type": "stream",
          "name": "stderr",
          "text": [
            "\rTraining LSTM per edge:  75%|███████▍  | 59/79 [05:39<01:58,  5.93s/it]/usr/local/lib/python3.11/dist-packages/keras/src/layers/rnn/rnn.py:200: UserWarning: Do not pass an `input_shape`/`input_dim` argument to a layer. When using Sequential models, prefer using an `Input(shape)` object as the first layer in the model instead.\n",
            "  super().__init__(**kwargs)\n"
          ]
        },
        {
          "output_type": "stream",
          "name": "stdout",
          "text": [
            "\u001b[1m1/1\u001b[0m \u001b[32m━━━━━━━━━━━━━━━━━━━━\u001b[0m\u001b[37m\u001b[0m \u001b[1m0s\u001b[0m 344ms/step\n"
          ]
        },
        {
          "output_type": "stream",
          "name": "stderr",
          "text": [
            "\rTraining LSTM per edge:  76%|███████▌  | 60/79 [05:46<01:54,  6.04s/it]/usr/local/lib/python3.11/dist-packages/keras/src/layers/rnn/rnn.py:200: UserWarning: Do not pass an `input_shape`/`input_dim` argument to a layer. When using Sequential models, prefer using an `Input(shape)` object as the first layer in the model instead.\n",
            "  super().__init__(**kwargs)\n"
          ]
        },
        {
          "output_type": "stream",
          "name": "stdout",
          "text": [
            "\u001b[1m1/1\u001b[0m \u001b[32m━━━━━━━━━━━━━━━━━━━━\u001b[0m\u001b[37m\u001b[0m \u001b[1m0s\u001b[0m 366ms/step\n"
          ]
        },
        {
          "output_type": "stream",
          "name": "stderr",
          "text": [
            "\rTraining LSTM per edge:  77%|███████▋  | 61/79 [05:51<01:44,  5.80s/it]/usr/local/lib/python3.11/dist-packages/keras/src/layers/rnn/rnn.py:200: UserWarning: Do not pass an `input_shape`/`input_dim` argument to a layer. When using Sequential models, prefer using an `Input(shape)` object as the first layer in the model instead.\n",
            "  super().__init__(**kwargs)\n"
          ]
        },
        {
          "output_type": "stream",
          "name": "stdout",
          "text": [
            "\u001b[1m1/1\u001b[0m \u001b[32m━━━━━━━━━━━━━━━━━━━━\u001b[0m\u001b[37m\u001b[0m \u001b[1m1s\u001b[0m 513ms/step\n"
          ]
        },
        {
          "output_type": "stream",
          "name": "stderr",
          "text": [
            "\rTraining LSTM per edge:  78%|███████▊  | 62/79 [05:57<01:38,  5.81s/it]/usr/local/lib/python3.11/dist-packages/keras/src/layers/rnn/rnn.py:200: UserWarning: Do not pass an `input_shape`/`input_dim` argument to a layer. When using Sequential models, prefer using an `Input(shape)` object as the first layer in the model instead.\n",
            "  super().__init__(**kwargs)\n"
          ]
        },
        {
          "output_type": "stream",
          "name": "stdout",
          "text": [
            "\u001b[1m1/1\u001b[0m \u001b[32m━━━━━━━━━━━━━━━━━━━━\u001b[0m\u001b[37m\u001b[0m \u001b[1m0s\u001b[0m 345ms/step\n"
          ]
        },
        {
          "output_type": "stream",
          "name": "stderr",
          "text": [
            "\rTraining LSTM per edge:  80%|███████▉  | 63/79 [06:02<01:30,  5.68s/it]/usr/local/lib/python3.11/dist-packages/keras/src/layers/rnn/rnn.py:200: UserWarning: Do not pass an `input_shape`/`input_dim` argument to a layer. When using Sequential models, prefer using an `Input(shape)` object as the first layer in the model instead.\n",
            "  super().__init__(**kwargs)\n"
          ]
        },
        {
          "output_type": "stream",
          "name": "stdout",
          "text": [
            "\u001b[1m1/1\u001b[0m \u001b[32m━━━━━━━━━━━━━━━━━━━━\u001b[0m\u001b[37m\u001b[0m \u001b[1m0s\u001b[0m 364ms/step\n"
          ]
        },
        {
          "output_type": "stream",
          "name": "stderr",
          "text": [
            "\rTraining LSTM per edge:  81%|████████  | 64/79 [06:07<01:23,  5.55s/it]/usr/local/lib/python3.11/dist-packages/keras/src/layers/rnn/rnn.py:200: UserWarning: Do not pass an `input_shape`/`input_dim` argument to a layer. When using Sequential models, prefer using an `Input(shape)` object as the first layer in the model instead.\n",
            "  super().__init__(**kwargs)\n"
          ]
        },
        {
          "output_type": "stream",
          "name": "stdout",
          "text": [
            "\u001b[1m1/1\u001b[0m \u001b[32m━━━━━━━━━━━━━━━━━━━━\u001b[0m\u001b[37m\u001b[0m \u001b[1m0s\u001b[0m 344ms/step\n"
          ]
        },
        {
          "output_type": "stream",
          "name": "stderr",
          "text": [
            "\rTraining LSTM per edge:  82%|████████▏ | 65/79 [06:13<01:17,  5.54s/it]/usr/local/lib/python3.11/dist-packages/keras/src/layers/rnn/rnn.py:200: UserWarning: Do not pass an `input_shape`/`input_dim` argument to a layer. When using Sequential models, prefer using an `Input(shape)` object as the first layer in the model instead.\n",
            "  super().__init__(**kwargs)\n"
          ]
        },
        {
          "output_type": "stream",
          "name": "stdout",
          "text": [
            "\u001b[1m1/1\u001b[0m \u001b[32m━━━━━━━━━━━━━━━━━━━━\u001b[0m\u001b[37m\u001b[0m \u001b[1m0s\u001b[0m 358ms/step\n"
          ]
        },
        {
          "output_type": "stream",
          "name": "stderr",
          "text": [
            "\rTraining LSTM per edge:  84%|████████▎ | 66/79 [06:18<01:11,  5.47s/it]/usr/local/lib/python3.11/dist-packages/keras/src/layers/rnn/rnn.py:200: UserWarning: Do not pass an `input_shape`/`input_dim` argument to a layer. When using Sequential models, prefer using an `Input(shape)` object as the first layer in the model instead.\n",
            "  super().__init__(**kwargs)\n"
          ]
        },
        {
          "output_type": "stream",
          "name": "stdout",
          "text": [
            "\u001b[1m1/1\u001b[0m \u001b[32m━━━━━━━━━━━━━━━━━━━━\u001b[0m\u001b[37m\u001b[0m \u001b[1m0s\u001b[0m 367ms/step\n"
          ]
        },
        {
          "output_type": "stream",
          "name": "stderr",
          "text": [
            "\rTraining LSTM per edge:  85%|████████▍ | 67/79 [06:24<01:06,  5.54s/it]/usr/local/lib/python3.11/dist-packages/keras/src/layers/rnn/rnn.py:200: UserWarning: Do not pass an `input_shape`/`input_dim` argument to a layer. When using Sequential models, prefer using an `Input(shape)` object as the first layer in the model instead.\n",
            "  super().__init__(**kwargs)\n"
          ]
        },
        {
          "output_type": "stream",
          "name": "stdout",
          "text": [
            "\u001b[1m1/1\u001b[0m \u001b[32m━━━━━━━━━━━━━━━━━━━━\u001b[0m\u001b[37m\u001b[0m \u001b[1m0s\u001b[0m 355ms/step\n"
          ]
        },
        {
          "output_type": "stream",
          "name": "stderr",
          "text": [
            "\rTraining LSTM per edge:  86%|████████▌ | 68/79 [06:29<00:59,  5.45s/it]/usr/local/lib/python3.11/dist-packages/keras/src/layers/rnn/rnn.py:200: UserWarning: Do not pass an `input_shape`/`input_dim` argument to a layer. When using Sequential models, prefer using an `Input(shape)` object as the first layer in the model instead.\n",
            "  super().__init__(**kwargs)\n"
          ]
        },
        {
          "output_type": "stream",
          "name": "stdout",
          "text": [
            "\u001b[1m1/1\u001b[0m \u001b[32m━━━━━━━━━━━━━━━━━━━━\u001b[0m\u001b[37m\u001b[0m \u001b[1m0s\u001b[0m 385ms/step\n"
          ]
        },
        {
          "output_type": "stream",
          "name": "stderr",
          "text": [
            "\rTraining LSTM per edge:  87%|████████▋ | 69/79 [06:35<00:56,  5.68s/it]/usr/local/lib/python3.11/dist-packages/keras/src/layers/rnn/rnn.py:200: UserWarning: Do not pass an `input_shape`/`input_dim` argument to a layer. When using Sequential models, prefer using an `Input(shape)` object as the first layer in the model instead.\n",
            "  super().__init__(**kwargs)\n"
          ]
        },
        {
          "output_type": "stream",
          "name": "stdout",
          "text": [
            "\u001b[1m1/1\u001b[0m \u001b[32m━━━━━━━━━━━━━━━━━━━━\u001b[0m\u001b[37m\u001b[0m \u001b[1m0s\u001b[0m 436ms/step\n"
          ]
        },
        {
          "output_type": "stream",
          "name": "stderr",
          "text": [
            "\rTraining LSTM per edge:  89%|████████▊ | 70/79 [06:44<00:57,  6.44s/it]/usr/local/lib/python3.11/dist-packages/keras/src/layers/rnn/rnn.py:200: UserWarning: Do not pass an `input_shape`/`input_dim` argument to a layer. When using Sequential models, prefer using an `Input(shape)` object as the first layer in the model instead.\n",
            "  super().__init__(**kwargs)\n"
          ]
        },
        {
          "output_type": "stream",
          "name": "stdout",
          "text": [
            "\u001b[1m1/1\u001b[0m \u001b[32m━━━━━━━━━━━━━━━━━━━━\u001b[0m\u001b[37m\u001b[0m \u001b[1m0s\u001b[0m 364ms/step\n"
          ]
        },
        {
          "output_type": "stream",
          "name": "stderr",
          "text": [
            "\rTraining LSTM per edge:  90%|████████▉ | 71/79 [06:49<00:50,  6.25s/it]/usr/local/lib/python3.11/dist-packages/keras/src/layers/rnn/rnn.py:200: UserWarning: Do not pass an `input_shape`/`input_dim` argument to a layer. When using Sequential models, prefer using an `Input(shape)` object as the first layer in the model instead.\n",
            "  super().__init__(**kwargs)\n"
          ]
        },
        {
          "output_type": "stream",
          "name": "stdout",
          "text": [
            "\u001b[1m1/1\u001b[0m \u001b[32m━━━━━━━━━━━━━━━━━━━━\u001b[0m\u001b[37m\u001b[0m \u001b[1m0s\u001b[0m 360ms/step\n"
          ]
        },
        {
          "output_type": "stream",
          "name": "stderr",
          "text": [
            "\rTraining LSTM per edge:  91%|█████████ | 72/79 [06:55<00:41,  5.95s/it]/usr/local/lib/python3.11/dist-packages/keras/src/layers/rnn/rnn.py:200: UserWarning: Do not pass an `input_shape`/`input_dim` argument to a layer. When using Sequential models, prefer using an `Input(shape)` object as the first layer in the model instead.\n",
            "  super().__init__(**kwargs)\n"
          ]
        },
        {
          "output_type": "stream",
          "name": "stdout",
          "text": [
            "\u001b[1m1/1\u001b[0m \u001b[32m━━━━━━━━━━━━━━━━━━━━\u001b[0m\u001b[37m\u001b[0m \u001b[1m0s\u001b[0m 360ms/step\n"
          ]
        },
        {
          "output_type": "stream",
          "name": "stderr",
          "text": [
            "\rTraining LSTM per edge:  92%|█████████▏| 73/79 [07:00<00:35,  5.86s/it]/usr/local/lib/python3.11/dist-packages/keras/src/layers/rnn/rnn.py:200: UserWarning: Do not pass an `input_shape`/`input_dim` argument to a layer. When using Sequential models, prefer using an `Input(shape)` object as the first layer in the model instead.\n",
            "  super().__init__(**kwargs)\n"
          ]
        },
        {
          "output_type": "stream",
          "name": "stdout",
          "text": [
            "\u001b[1m1/1\u001b[0m \u001b[32m━━━━━━━━━━━━━━━━━━━━\u001b[0m\u001b[37m\u001b[0m \u001b[1m0s\u001b[0m 345ms/step\n"
          ]
        },
        {
          "output_type": "stream",
          "name": "stderr",
          "text": [
            "\rTraining LSTM per edge:  94%|█████████▎| 74/79 [07:05<00:28,  5.61s/it]/usr/local/lib/python3.11/dist-packages/keras/src/layers/rnn/rnn.py:200: UserWarning: Do not pass an `input_shape`/`input_dim` argument to a layer. When using Sequential models, prefer using an `Input(shape)` object as the first layer in the model instead.\n",
            "  super().__init__(**kwargs)\n"
          ]
        },
        {
          "output_type": "stream",
          "name": "stdout",
          "text": [
            "\u001b[1m1/1\u001b[0m \u001b[32m━━━━━━━━━━━━━━━━━━━━\u001b[0m\u001b[37m\u001b[0m \u001b[1m1s\u001b[0m 513ms/step\n"
          ]
        },
        {
          "output_type": "stream",
          "name": "stderr",
          "text": [
            "\rTraining LSTM per edge:  95%|█████████▍| 75/79 [07:11<00:22,  5.66s/it]/usr/local/lib/python3.11/dist-packages/keras/src/layers/rnn/rnn.py:200: UserWarning: Do not pass an `input_shape`/`input_dim` argument to a layer. When using Sequential models, prefer using an `Input(shape)` object as the first layer in the model instead.\n",
            "  super().__init__(**kwargs)\n"
          ]
        },
        {
          "output_type": "stream",
          "name": "stdout",
          "text": [
            "\u001b[1m1/1\u001b[0m \u001b[32m━━━━━━━━━━━━━━━━━━━━\u001b[0m\u001b[37m\u001b[0m \u001b[1m0s\u001b[0m 371ms/step\n"
          ]
        },
        {
          "output_type": "stream",
          "name": "stderr",
          "text": [
            "Training LSTM per edge: 100%|██████████| 79/79 [07:16<00:00,  5.53s/it]"
          ]
        },
        {
          "output_type": "stream",
          "name": "stdout",
          "text": [
            "\n",
            "✅ Done predicting traffic flow and travel times for all edges!\n"
          ]
        },
        {
          "output_type": "stream",
          "name": "stderr",
          "text": [
            "\n"
          ]
        }
      ]
    },
    {
      "cell_type": "code",
      "source": [
        "import networkx as nx\n",
        "\n",
        "# Assuming your graph `G` is already created using network_data.csv\n",
        "# and `predicted_travel_time` dict is ready from LSTM models\n",
        "\n",
        "# Update edge weights\n",
        "for u, v, data in graph.edges(data=True):\n",
        "    edge_id = data.get(\"edge_id\")\n",
        "\n",
        "    if edge_id in predicted_travel_time:\n",
        "        # Set predicted time as new weight\n",
        "        data[\"predicted_time\"] = predicted_travel_time[edge_id]\n",
        "    else:\n",
        "        # If no prediction is available, fall back to default time estimate\n",
        "        default_speed = data.get(\"speed_limit\", 10)  # m/s\n",
        "        length = data.get(\"length\", 100)  # m\n",
        "        data[\"predicted_time\"] = length / default_speed\n",
        "\n",
        "print(\"✅ Graph updated with predicted travel times.\")\n"
      ],
      "metadata": {
        "colab": {
          "base_uri": "https://localhost:8080/"
        },
        "id": "FNR3E4DuCpjR",
        "outputId": "aac81688-c7e4-4e78-ebc7-25b78efdb18e"
      },
      "execution_count": null,
      "outputs": [
        {
          "output_type": "stream",
          "name": "stdout",
          "text": [
            "✅ Graph updated with predicted travel times.\n"
          ]
        }
      ]
    },
    {
      "cell_type": "code",
      "source": [
        "import pandas as pd\n",
        "import random\n",
        "\n",
        "# Define fixed source and destination\n",
        "source_node = \"J1\"       # Replace with your actual source node\n",
        "destination_node = \"J10\" # Replace with your actual destination node\n",
        "\n",
        "# States and actions\n",
        "states = list(graph.nodes)\n",
        "actions = {node: list(graph.successors(node)) for node in states}\n",
        "\n",
        "# Initialize Q-table with zeros\n",
        "Q_table = pd.DataFrame(0, index=states, columns=states)\n",
        "\n",
        "# Hyperparameters\n",
        "gamma = 0.8  # Discount factor\n",
        "alpha = 0.5  # Learning rate\n",
        "episodes = 500\n",
        "\n",
        "# Q-Learning Training Loop\n",
        "for _ in range(episodes):\n",
        "    current_state = source_node\n",
        "\n",
        "    while current_state != destination_node and actions[current_state]:\n",
        "        next_state = random.choice(actions[current_state])\n",
        "\n",
        "        # Get predicted travel time from edge data\n",
        "        edge_data = graph.get_edge_data(current_state, next_state)\n",
        "        travel_time = edge_data.get(\"predicted_time\", 100)  # fallback if not set\n",
        "\n",
        "        # Assign reward\n",
        "        if next_state == destination_node:\n",
        "            reward = 100  # Strong positive reward for reaching destination\n",
        "        else:\n",
        "            reward = -travel_time  # Negative reward to minimize travel time\n",
        "\n",
        "        # Q-learning update\n",
        "        max_future_q = Q_table.loc[next_state].max()\n",
        "        current_q = Q_table.loc[current_state, next_state]\n",
        "\n",
        "        new_q = (1 - alpha) * current_q + alpha * (reward + gamma * max_future_q)\n",
        "        Q_table.loc[current_state, next_state] = new_q\n",
        "\n",
        "        # Move to next state\n",
        "        current_state = next_state\n",
        "\n",
        "print(\"✅ Q-Learning training complete.\")\n"
      ],
      "metadata": {
        "colab": {
          "base_uri": "https://localhost:8080/"
        },
        "id": "8i7vVE0WGA-P",
        "outputId": "1b10c9c1-37d6-45d2-abf2-deee58ba4ad8"
      },
      "execution_count": null,
      "outputs": [
        {
          "output_type": "stream",
          "name": "stderr",
          "text": [
            "<ipython-input-73-f56ff409f46d>:42: FutureWarning: Setting an item of incompatible dtype is deprecated and will raise an error in a future version of pandas. Value '-7.5' has dtype incompatible with int64, please explicitly cast to a compatible dtype first.\n",
            "  Q_table.loc[current_state, next_state] = new_q\n",
            "<ipython-input-73-f56ff409f46d>:42: FutureWarning: Setting an item of incompatible dtype is deprecated and will raise an error in a future version of pandas. Value '-7.5' has dtype incompatible with int64, please explicitly cast to a compatible dtype first.\n",
            "  Q_table.loc[current_state, next_state] = new_q\n",
            "<ipython-input-73-f56ff409f46d>:42: FutureWarning: Setting an item of incompatible dtype is deprecated and will raise an error in a future version of pandas. Value '-7.5' has dtype incompatible with int64, please explicitly cast to a compatible dtype first.\n",
            "  Q_table.loc[current_state, next_state] = new_q\n",
            "<ipython-input-73-f56ff409f46d>:42: FutureWarning: Setting an item of incompatible dtype is deprecated and will raise an error in a future version of pandas. Value '-7.5' has dtype incompatible with int64, please explicitly cast to a compatible dtype first.\n",
            "  Q_table.loc[current_state, next_state] = new_q\n",
            "<ipython-input-73-f56ff409f46d>:42: FutureWarning: Setting an item of incompatible dtype is deprecated and will raise an error in a future version of pandas. Value '-7.5' has dtype incompatible with int64, please explicitly cast to a compatible dtype first.\n",
            "  Q_table.loc[current_state, next_state] = new_q\n",
            "<ipython-input-73-f56ff409f46d>:42: FutureWarning: Setting an item of incompatible dtype is deprecated and will raise an error in a future version of pandas. Value '-7.5' has dtype incompatible with int64, please explicitly cast to a compatible dtype first.\n",
            "  Q_table.loc[current_state, next_state] = new_q\n",
            "<ipython-input-73-f56ff409f46d>:42: FutureWarning: Setting an item of incompatible dtype is deprecated and will raise an error in a future version of pandas. Value '-7.5' has dtype incompatible with int64, please explicitly cast to a compatible dtype first.\n",
            "  Q_table.loc[current_state, next_state] = new_q\n",
            "<ipython-input-73-f56ff409f46d>:42: FutureWarning: Setting an item of incompatible dtype is deprecated and will raise an error in a future version of pandas. Value '87.5' has dtype incompatible with int64, please explicitly cast to a compatible dtype first.\n",
            "  Q_table.loc[current_state, next_state] = new_q\n",
            "<ipython-input-73-f56ff409f46d>:42: FutureWarning: Setting an item of incompatible dtype is deprecated and will raise an error in a future version of pandas. Value '-7.5' has dtype incompatible with int64, please explicitly cast to a compatible dtype first.\n",
            "  Q_table.loc[current_state, next_state] = new_q\n",
            "<ipython-input-73-f56ff409f46d>:42: FutureWarning: Setting an item of incompatible dtype is deprecated and will raise an error in a future version of pandas. Value '-7.5' has dtype incompatible with int64, please explicitly cast to a compatible dtype first.\n",
            "  Q_table.loc[current_state, next_state] = new_q\n",
            "<ipython-input-73-f56ff409f46d>:42: FutureWarning: Setting an item of incompatible dtype is deprecated and will raise an error in a future version of pandas. Value '-7.5' has dtype incompatible with int64, please explicitly cast to a compatible dtype first.\n",
            "  Q_table.loc[current_state, next_state] = new_q\n",
            "<ipython-input-73-f56ff409f46d>:42: FutureWarning: Setting an item of incompatible dtype is deprecated and will raise an error in a future version of pandas. Value '-7.5' has dtype incompatible with int64, please explicitly cast to a compatible dtype first.\n",
            "  Q_table.loc[current_state, next_state] = new_q\n",
            "<ipython-input-73-f56ff409f46d>:42: FutureWarning: Setting an item of incompatible dtype is deprecated and will raise an error in a future version of pandas. Value '-7.5' has dtype incompatible with int64, please explicitly cast to a compatible dtype first.\n",
            "  Q_table.loc[current_state, next_state] = new_q\n",
            "<ipython-input-73-f56ff409f46d>:42: FutureWarning: Setting an item of incompatible dtype is deprecated and will raise an error in a future version of pandas. Value '-7.5' has dtype incompatible with int64, please explicitly cast to a compatible dtype first.\n",
            "  Q_table.loc[current_state, next_state] = new_q\n",
            "<ipython-input-73-f56ff409f46d>:42: FutureWarning: Setting an item of incompatible dtype is deprecated and will raise an error in a future version of pandas. Value '-7.5' has dtype incompatible with int64, please explicitly cast to a compatible dtype first.\n",
            "  Q_table.loc[current_state, next_state] = new_q\n",
            "<ipython-input-73-f56ff409f46d>:42: FutureWarning: Setting an item of incompatible dtype is deprecated and will raise an error in a future version of pandas. Value '-7.1' has dtype incompatible with int64, please explicitly cast to a compatible dtype first.\n",
            "  Q_table.loc[current_state, next_state] = new_q\n",
            "<ipython-input-73-f56ff409f46d>:42: FutureWarning: Setting an item of incompatible dtype is deprecated and will raise an error in a future version of pandas. Value '1.5' has dtype incompatible with int64, please explicitly cast to a compatible dtype first.\n",
            "  Q_table.loc[current_state, next_state] = new_q\n",
            "<ipython-input-73-f56ff409f46d>:42: FutureWarning: Setting an item of incompatible dtype is deprecated and will raise an error in a future version of pandas. Value '-7.5' has dtype incompatible with int64, please explicitly cast to a compatible dtype first.\n",
            "  Q_table.loc[current_state, next_state] = new_q\n",
            "<ipython-input-73-f56ff409f46d>:42: FutureWarning: Setting an item of incompatible dtype is deprecated and will raise an error in a future version of pandas. Value '-7.5' has dtype incompatible with int64, please explicitly cast to a compatible dtype first.\n",
            "  Q_table.loc[current_state, next_state] = new_q\n",
            "<ipython-input-73-f56ff409f46d>:42: FutureWarning: Setting an item of incompatible dtype is deprecated and will raise an error in a future version of pandas. Value '-7.5' has dtype incompatible with int64, please explicitly cast to a compatible dtype first.\n",
            "  Q_table.loc[current_state, next_state] = new_q\n",
            "<ipython-input-73-f56ff409f46d>:42: FutureWarning: Setting an item of incompatible dtype is deprecated and will raise an error in a future version of pandas. Value '-7.5' has dtype incompatible with int64, please explicitly cast to a compatible dtype first.\n",
            "  Q_table.loc[current_state, next_state] = new_q\n",
            "<ipython-input-73-f56ff409f46d>:42: FutureWarning: Setting an item of incompatible dtype is deprecated and will raise an error in a future version of pandas. Value '-7.5' has dtype incompatible with int64, please explicitly cast to a compatible dtype first.\n",
            "  Q_table.loc[current_state, next_state] = new_q\n",
            "<ipython-input-73-f56ff409f46d>:42: FutureWarning: Setting an item of incompatible dtype is deprecated and will raise an error in a future version of pandas. Value '-7.5' has dtype incompatible with int64, please explicitly cast to a compatible dtype first.\n",
            "  Q_table.loc[current_state, next_state] = new_q\n",
            "<ipython-input-73-f56ff409f46d>:42: FutureWarning: Setting an item of incompatible dtype is deprecated and will raise an error in a future version of pandas. Value '-7.5' has dtype incompatible with int64, please explicitly cast to a compatible dtype first.\n",
            "  Q_table.loc[current_state, next_state] = new_q\n",
            "<ipython-input-73-f56ff409f46d>:42: FutureWarning: Setting an item of incompatible dtype is deprecated and will raise an error in a future version of pandas. Value '-7.5' has dtype incompatible with int64, please explicitly cast to a compatible dtype first.\n",
            "  Q_table.loc[current_state, next_state] = new_q\n",
            "<ipython-input-73-f56ff409f46d>:42: FutureWarning: Setting an item of incompatible dtype is deprecated and will raise an error in a future version of pandas. Value '-7.5' has dtype incompatible with int64, please explicitly cast to a compatible dtype first.\n",
            "  Q_table.loc[current_state, next_state] = new_q\n",
            "<ipython-input-73-f56ff409f46d>:42: FutureWarning: Setting an item of incompatible dtype is deprecated and will raise an error in a future version of pandas. Value '-7.5' has dtype incompatible with int64, please explicitly cast to a compatible dtype first.\n",
            "  Q_table.loc[current_state, next_state] = new_q\n",
            "<ipython-input-73-f56ff409f46d>:42: FutureWarning: Setting an item of incompatible dtype is deprecated and will raise an error in a future version of pandas. Value '12.5' has dtype incompatible with int64, please explicitly cast to a compatible dtype first.\n",
            "  Q_table.loc[current_state, next_state] = new_q\n",
            "<ipython-input-73-f56ff409f46d>:42: FutureWarning: Setting an item of incompatible dtype is deprecated and will raise an error in a future version of pandas. Value '-7.5' has dtype incompatible with int64, please explicitly cast to a compatible dtype first.\n",
            "  Q_table.loc[current_state, next_state] = new_q\n",
            "<ipython-input-73-f56ff409f46d>:42: FutureWarning: Setting an item of incompatible dtype is deprecated and will raise an error in a future version of pandas. Value '-7.5' has dtype incompatible with int64, please explicitly cast to a compatible dtype first.\n",
            "  Q_table.loc[current_state, next_state] = new_q\n",
            "<ipython-input-73-f56ff409f46d>:42: FutureWarning: Setting an item of incompatible dtype is deprecated and will raise an error in a future version of pandas. Value '2.200000000000001' has dtype incompatible with int64, please explicitly cast to a compatible dtype first.\n",
            "  Q_table.loc[current_state, next_state] = new_q\n"
          ]
        },
        {
          "output_type": "stream",
          "name": "stdout",
          "text": [
            "✅ Q-Learning training complete.\n"
          ]
        }
      ]
    },
    {
      "cell_type": "code",
      "source": [
        "def find_best_path_rl(start, end, max_steps=100):\n",
        "    path_nodes = [start]\n",
        "    path_edges = []\n",
        "    total_time = 0.0\n",
        "    total_distance = 0.0\n",
        "    current = start\n",
        "    visited = set()\n",
        "\n",
        "    for _ in range(max_steps):\n",
        "        if current == end:\n",
        "            return path_nodes, path_edges, total_time, total_distance\n",
        "\n",
        "        visited.add(current)\n",
        "\n",
        "        if Q_table.loc[current].sum() == 0:\n",
        "            print(f\"⚠️ No learned Q-values for node {current}. Stopping.\")\n",
        "            return None, None, None, None\n",
        "\n",
        "        next_node = Q_table.loc[current].idxmax()\n",
        "\n",
        "        if next_node in visited:\n",
        "            print(f\"⚠️ Loop detected at node {next_node}. Stopping.\")\n",
        "            return None, None, None, None\n",
        "\n",
        "        edge_info = graph.get_edge_data(current, next_node)\n",
        "\n",
        "        if not edge_info or \"edge_id\" not in edge_info:\n",
        "            print(f\"❌ Edge from {current} to {next_node} missing 'edge_id'. Got: {edge_info}\")\n",
        "            return None, None, None, None\n",
        "\n",
        "        # Clean edge ID (remove any extra quotes or spaces)\n",
        "        raw_edge_id = edge_info[\"edge_id\"]\n",
        "        edge_id = raw_edge_id.strip().replace(\"'\", \"\")\n",
        "\n",
        "        travel_time = edge_info.get(\"predicted_time\", 0.0)\n",
        "        distance = edge_info.get(\"distance\", 0.0)\n",
        "\n",
        "        path_edges.append(edge_id)\n",
        "        total_time += travel_time\n",
        "        total_distance += distance\n",
        "\n",
        "        path_nodes.append(next_node)\n",
        "        current = next_node\n",
        "\n",
        "    print(\"⛔ Max steps reached. Possibly infinite loop.\")\n",
        "    return None, None, None, None\n",
        "\n",
        "# 🧪 Example usage\n",
        "nodes_path, edges_path, total_time, total_distance = find_best_path_rl(\"J1\", \"J10\")\n",
        "\n",
        "if nodes_path and edges_path:\n",
        "    print(\"🧭 Best path (nodes): \" + \" -> \".join(nodes_path))\n",
        "    print(\"🛣️ Best path (edges): \" + \" -> \".join(edges_path))\n",
        "    print(f\"⏱️ Total predicted time: {total_time:.2f} seconds\")\n",
        "    print(f\"📏 Total distance: {total_distance:.2f} meters\")\n"
      ],
      "metadata": {
        "colab": {
          "base_uri": "https://localhost:8080/"
        },
        "id": "njhCeCzBIzE7",
        "outputId": "9763af87-cbb1-4b46-900e-de25feddd7a2"
      },
      "execution_count": null,
      "outputs": [
        {
          "output_type": "stream",
          "name": "stdout",
          "text": [
            "🧭 Best path (nodes): J1 -> J2 -> J10\n",
            "🛣️ Best path (edges): E0 -> E6\n",
            "⏱️ Total predicted time: 20.00 seconds\n",
            "📏 Total distance: 1977.95 meters\n"
          ]
        }
      ]
    },
    {
      "cell_type": "code",
      "source": [],
      "metadata": {
        "id": "5ZUXyuESMvfh"
      },
      "execution_count": null,
      "outputs": []
    }
  ]
}